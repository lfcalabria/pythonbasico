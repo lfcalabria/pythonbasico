{
 "cells": [
  {
   "cell_type": "markdown",
   "id": "8e4974ef-074c-4454-9f7c-1235d2477e99",
   "metadata": {},
   "source": [
    "Fazer um programa que receba um número inteiro de 4 dígitos separe-o em 2 números de 2 dígitos e verifique se o quadrado da suma deste 2 números é igual ao número informado.\n"
   ]
  },
  {
   "cell_type": "code",
   "execution_count": 1,
   "id": "3c2985e0-ab7d-4584-ba46-6ce02bef0805",
   "metadata": {},
   "outputs": [
    {
     "name": "stdin",
     "output_type": "stream",
     "text": [
      "Informe um número:  9801\n"
     ]
    },
    {
     "name": "stdout",
     "output_type": "stream",
     "text": [
      "True\n"
     ]
    }
   ],
   "source": [
    "try:\n",
    "    n = int(input('Informe um número: '))\n",
    "except ValueError:\n",
    "    print('Número Inválido')\n",
    "else: \n",
    "    if not 1000 < n < 9999:\n",
    "        print('Número inválido')\n",
    "    else:\n",
    "        p1 = n // 100\n",
    "        p2 = n % 100\n",
    "        if (p1 + p2) ** 2 == n:\n",
    "            print(True)\n",
    "        else:\n",
    "            print(False)"
   ]
  },
  {
   "cell_type": "code",
   "execution_count": null,
   "id": "c6aeaa5c-ab70-4b47-85f6-bc1cf97c3c13",
   "metadata": {},
   "outputs": [],
   "source": []
  }
 ],
 "metadata": {
  "kernelspec": {
   "display_name": "Python 3 (ipykernel)",
   "language": "python",
   "name": "python3"
  },
  "language_info": {
   "codemirror_mode": {
    "name": "ipython",
    "version": 3
   },
   "file_extension": ".py",
   "mimetype": "text/x-python",
   "name": "python",
   "nbconvert_exporter": "python",
   "pygments_lexer": "ipython3",
   "version": "3.11.7"
  }
 },
 "nbformat": 4,
 "nbformat_minor": 5
}
