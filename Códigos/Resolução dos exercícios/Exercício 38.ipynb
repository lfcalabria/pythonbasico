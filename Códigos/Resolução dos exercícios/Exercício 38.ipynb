{
 "cells": [
  {
   "cell_type": "markdown",
   "id": "7978b4db-7ebf-417f-8e5e-1d3f5008f6e9",
   "metadata": {},
   "source": [
    "Crie uma função que receba como parâmetro um valor até a casa de bilhão em dinheiro e retorne este valor por extenso"
   ]
  },
  {
   "cell_type": "code",
   "execution_count": 3,
   "id": "b7864218-c152-4447-a889-5d66ddbffe94",
   "metadata": {},
   "outputs": [],
   "source": [
    "def valorPorExtenso(valor):\n",
    "    def bloco_extenso(n):\n",
    "        n = int(n)\n",
    "        if n == 0:\n",
    "            return ''\n",
    "        if n == 100:\n",
    "            return 'cem'\n",
    "        c = n // 100\n",
    "        d = (n % 100) // 10\n",
    "        u = n % 10\n",
    "\n",
    "        partes = []\n",
    "        if c > 0:\n",
    "            partes.append(centenas[c])\n",
    "        if d == 1:\n",
    "            partes.append(especiais[u])\n",
    "        else:\n",
    "            if d > 1:\n",
    "                partes.append(dezenas[d])\n",
    "            if u > 0:\n",
    "                partes.append(unidades[u])\n",
    "\n",
    "        return ' e '.join(partes)\n",
    "    \n",
    "    if not isinstance(valor, (int, float)):\n",
    "        raise TypeError(\"Tipo de dado incorreto.\")\n",
    "    \n",
    "    unidades = ['', 'um', 'dois', 'três', 'quatro', 'cinco', 'seis', 'sete', 'oito', 'nove']\n",
    "    especiais = ['dez', 'onze', 'doze', 'treze', 'quatorze', 'quinze', 'dezesseis', 'dezessete', 'dezoito', 'dezenove']\n",
    "    dezenas = ['', '', 'vinte', 'trinta', 'quarenta', 'cinquenta', 'sessenta', 'setenta', 'oitenta', 'noventa']\n",
    "    centenas = ['', 'cento', 'duzentos', 'trezentos', 'quatrocentos', 'quinhentos',\n",
    "                'seiscentos', 'setecentos', 'oitocentos', 'novecentos']\n",
    "    numero = str(valor).split('.')\n",
    "    inteiro = numero[0].rjust(12,'0')\n",
    "    if len(numero) == 2:\n",
    "        decimal = int(numero[1]) \n",
    "    else:\n",
    "        decimal = 0\n",
    "    if decimal > 100 or int(numero[0]) > 999999999999:\n",
    "        raise ValueError(\"Não é um valor válido\")\n",
    "    bilhao = int(inteiro[0:3])\n",
    "    milhao = int(inteiro[3:6])\n",
    "    milhar = int(inteiro[6:9])\n",
    "    cento  = int(inteiro[9:])\n",
    "    partes = [bilhao,milhao,milhar,cento]\n",
    "    extenso = []\n",
    "    if bilhao == 1:\n",
    "        extenso.apend('um bilhão')\n",
    "    elif bilhao > 1:\n",
    "        extenso.append(bloco_extenso(bilhao)+' bilhões')\n",
    "    if milhao == 1:\n",
    "        extenso.append('um milhão')\n",
    "    elif milhao > 1:\n",
    "        extenso.append(bloco_extenso(milhao)+' milhões')\n",
    "    if milhar == 1:\n",
    "        extenso.append('um mil')\n",
    "    elif milhar > 1:\n",
    "        extenso.append(bloco_extenso(milhar)+' mil')\n",
    "    if cento == 1:\n",
    "        extenso.append('um')\n",
    "    elif cento > 1:\n",
    "        extenso.append(bloco_extenso(cento))\n",
    "    if valor == 1:\n",
    "        extenso.append('real')\n",
    "    else:\n",
    "        extenso.append('reais')\n",
    "    if decimal == 1:\n",
    "        extenso.append('e um centavo')\n",
    "    elif decimal > 1:\n",
    "        extenso.append('e '+ bloco_extenso(decimal) + ' centavos')\n",
    "    return \" \".join(extenso)"
   ]
  },
  {
   "cell_type": "code",
   "execution_count": 4,
   "id": "e716432c-9396-4003-84f7-b6069e4183d1",
   "metadata": {},
   "outputs": [
    {
     "name": "stdout",
     "output_type": "stream",
     "text": [
      "um real\n",
      "cento e vinte e três milhões quatrocentos e cinquenta e seis mil setecentos e oitenta e nove reais e dezoito centavos\n",
      "Não é um valor válido\n"
     ]
    }
   ],
   "source": [
    "try:\n",
    "    print(valorPorExtenso(1))\n",
    "    print(valorPorExtenso(123456789.18))\n",
    "    print(valorPorExtenso(12345678910.123))\n",
    "except Exception as e:\n",
    "    print(e)"
   ]
  },
  {
   "cell_type": "code",
   "execution_count": null,
   "id": "db403ed3-b5d0-4bcf-baf8-60e6bbd54735",
   "metadata": {},
   "outputs": [],
   "source": []
  }
 ],
 "metadata": {
  "kernelspec": {
   "display_name": "Python 3 (ipykernel)",
   "language": "python",
   "name": "python3"
  },
  "language_info": {
   "codemirror_mode": {
    "name": "ipython",
    "version": 3
   },
   "file_extension": ".py",
   "mimetype": "text/x-python",
   "name": "python",
   "nbconvert_exporter": "python",
   "pygments_lexer": "ipython3",
   "version": "3.11.7"
  }
 },
 "nbformat": 4,
 "nbformat_minor": 5
}
