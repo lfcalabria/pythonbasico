{
 "cells": [
  {
   "cell_type": "markdown",
   "id": "33323d4a-844a-44db-b662-ae3ffda9f879",
   "metadata": {},
   "source": [
    "Tem-se um conjunto de dados contendo a altura e o sexo (”M”, “F”) de  pessoas. Fazer um programa que receba um conjunto de dados por vez via teclado, o último conjunto terá o valor do sexo = “FIM”, calcule e escreva no vídeo o:  \n",
    "a maior altura do grupo  \n",
    "a média de altura das mulheres;  \n",
    "a quantidade de pessoas do sexo masculino;   \n"
   ]
  },
  {
   "cell_type": "code",
   "execution_count": null,
   "id": "4f9211b0-ae65-445c-b375-e548cdd7171b",
   "metadata": {},
   "outputs": [],
   "source": [
    "# Preparação\n",
    "maioraltura = 0\n",
    "somaalturamulher = 0\n",
    "contamulher = 0\n",
    "contahomem = 0\n",
    "\n",
    "# Recebendo as entradas e processando\n",
    "while True:\n",
    "    sexo = input('Informe o sexo: ').upper()\n",
    "    if sexo == 'FIM': break\n",
    "    altura = float(input('Informe a altura: '))\n",
    "    if sexo == 'F':\n",
    "        contamulher += 1\n",
    "        somaalturamulher += altura\n",
    "    else:\n",
    "        contahomem += 1\n",
    "    if altura > maioraltura:\n",
    "        maioraltura = altura\n",
    "\n",
    "# Apresentando as saídas\n",
    "print(f'A maior altura do grupo foi {maioraltura} ')\n",
    "print(f'A média da altura das mulheres foi {somaalturamulher/contamulher:.2f}')\n",
    "print(f'A quantidade de homens foi {contahomem}')"
   ]
  },
  {
   "cell_type": "code",
   "execution_count": null,
   "id": "bc0088f5-cf25-4c6b-bf3b-e7f6021a0d6c",
   "metadata": {},
   "outputs": [],
   "source": []
  }
 ],
 "metadata": {
  "kernelspec": {
   "display_name": "Python 3 (ipykernel)",
   "language": "python",
   "name": "python3"
  },
  "language_info": {
   "codemirror_mode": {
    "name": "ipython",
    "version": 3
   },
   "file_extension": ".py",
   "mimetype": "text/x-python",
   "name": "python",
   "nbconvert_exporter": "python",
   "pygments_lexer": "ipython3",
   "version": "3.11.7"
  }
 },
 "nbformat": 4,
 "nbformat_minor": 5
}
