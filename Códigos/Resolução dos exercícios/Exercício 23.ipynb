{
 "cells": [
  {
   "cell_type": "markdown",
   "id": "c32959cb-742f-4947-9aa1-a1e99835712d",
   "metadata": {},
   "source": [
    "Elabore um programa  que receba valores aleatórios via teclado. Encerrar o recebimento quando receber o número com valor igual a 999, este não deverá entrar nos cálculos.   \n",
    "Ao final exibir o que se segue:  \n",
    "A quantidade de números digitados   \n",
    "A soma dos valores digitados            \n",
    "A média dos números pares digitados  \n"
   ]
  },
  {
   "cell_type": "code",
   "execution_count": 3,
   "id": "f77ca91b-8fc1-409d-b119-883387b77a98",
   "metadata": {},
   "outputs": [
    {
     "name": "stdin",
     "output_type": "stream",
     "text": [
      "Informe o número:  7\n",
      "Informe o número:  8\n",
      "Informe o número:  10\n",
      "Informe o número:  4\n",
      "Informe o número:  999\n"
     ]
    },
    {
     "name": "stdout",
     "output_type": "stream",
     "text": [
      "Foram digitados 4 números\n",
      "A soma dos valores digitados foi 29\n",
      "A  média dos números pares foi 7.33\n"
     ]
    }
   ],
   "source": [
    "# Preparação\n",
    "conta = 0\n",
    "soma = 0\n",
    "contapar = 0\n",
    "somapar = 0\n",
    "\n",
    "# Recebendo as entradas e processando\n",
    "while True:\n",
    "    numero = int(input('Informe o número: '))\n",
    "    if numero == 999: break\n",
    "    soma += numero\n",
    "    conta += 1\n",
    "    if numero % 2 == 0:\n",
    "        somapar += numero\n",
    "        contapar += 1\n",
    "mediapar = somapar / contapar\n",
    "\n",
    "# Apresentando as saídas\n",
    "print(f'Foram digitados {conta} números')\n",
    "print(f'A soma dos valores digitados foi {soma}')\n",
    "print(f'A  média dos números pares foi {mediapar:.2f}')"
   ]
  },
  {
   "cell_type": "code",
   "execution_count": null,
   "id": "e86f3e87-2900-458f-b314-94bb5dd2a9f9",
   "metadata": {},
   "outputs": [],
   "source": []
  }
 ],
 "metadata": {
  "kernelspec": {
   "display_name": "Python 3 (ipykernel)",
   "language": "python",
   "name": "python3"
  },
  "language_info": {
   "codemirror_mode": {
    "name": "ipython",
    "version": 3
   },
   "file_extension": ".py",
   "mimetype": "text/x-python",
   "name": "python",
   "nbconvert_exporter": "python",
   "pygments_lexer": "ipython3",
   "version": "3.11.7"
  }
 },
 "nbformat": 4,
 "nbformat_minor": 5
}
