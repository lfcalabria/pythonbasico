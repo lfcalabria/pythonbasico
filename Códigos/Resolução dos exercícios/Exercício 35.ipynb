{
 "cells": [
  {
   "cell_type": "markdown",
   "id": "9d91161d-c592-48e1-a0e7-d81a09eaee0a",
   "metadata": {},
   "source": [
    "Crie uma função que receba como parâmetro um número inteiro e retorne o valor do fatorial deste número\n"
   ]
  },
  {
   "cell_type": "code",
   "execution_count": 2,
   "id": "c738f8fb-9d1c-4a12-9133-28f372fbde63",
   "metadata": {},
   "outputs": [],
   "source": [
    "def fatorial(n):\n",
    "    if not str(n).isnumeric():\n",
    "        raise TypeError(\"Tipo de dado incorreto.\")\n",
    "    n = int(n)\n",
    "    if n in [0,1]:\n",
    "        return 1\n",
    "    return fatorial(n-1) * n"
   ]
  },
  {
   "cell_type": "code",
   "execution_count": 3,
   "id": "edde22fb-fe93-4467-adea-f4d2584d5f33",
   "metadata": {},
   "outputs": [
    {
     "name": "stdout",
     "output_type": "stream",
     "text": [
      "120\n"
     ]
    }
   ],
   "source": [
    "try:\n",
    "    print(fatorial(5))\n",
    "except TypeError as e:\n",
    "    print(e)"
   ]
  },
  {
   "cell_type": "code",
   "execution_count": null,
   "id": "d355b2de-2a9d-4b0e-bf79-1c3b6c050305",
   "metadata": {},
   "outputs": [],
   "source": []
  }
 ],
 "metadata": {
  "kernelspec": {
   "display_name": "Python 3 (ipykernel)",
   "language": "python",
   "name": "python3"
  },
  "language_info": {
   "codemirror_mode": {
    "name": "ipython",
    "version": 3
   },
   "file_extension": ".py",
   "mimetype": "text/x-python",
   "name": "python",
   "nbconvert_exporter": "python",
   "pygments_lexer": "ipython3",
   "version": "3.11.7"
  }
 },
 "nbformat": 4,
 "nbformat_minor": 5
}
