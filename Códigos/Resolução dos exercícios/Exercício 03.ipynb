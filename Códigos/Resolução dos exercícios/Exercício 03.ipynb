{
 "cells": [
  {
   "attachments": {},
   "cell_type": "markdown",
   "id": "08ff54c1-cb5a-47f7-8c5a-2afd96d9fd63",
   "metadata": {},
   "source": [
    "Faça um programa que receba do teclado dois valores do tipo real denominados nota1 e nota2, estes correspondem as notas que um aluno obteve no curso de Python. A seguir calcule e exiba na tela a média aritmética das notas recebidas."
   ]
  },
  {
   "cell_type": "code",
   "execution_count": null,
   "id": "c66d8f21-c7cc-45bf-b788-a23166736f88",
   "metadata": {},
   "outputs": [],
   "source": [
    "# Recebendo as entradas do problema\n",
    "nota1 = float(input('Informe a 1ª nota: '))\n",
    "nota2 = float(input('Informe a 2ª nota: '))\n",
    "\n",
    "# Fazendo o processamento\n",
    "media = (nota1 + nota2) / 2\n",
    "\n",
    "#Apresentando as saídas\n",
    "print(f'O aluno teve {nota1}')"
   ]
  }
 ],
 "metadata": {
  "kernelspec": {
   "display_name": "Python 3 (ipykernel)",
   "language": "python",
   "name": "python3"
  },
  "language_info": {
   "codemirror_mode": {
    "name": "ipython",
    "version": 3
   },
   "file_extension": ".py",
   "mimetype": "text/x-python",
   "name": "python",
   "nbconvert_exporter": "python",
   "pygments_lexer": "ipython3",
   "version": "3.11.7"
  }
 },
 "nbformat": 4,
 "nbformat_minor": 5
}
