{
 "cells": [
  {
   "attachments": {},
   "cell_type": "markdown",
   "id": "2e8b1e06-9347-4487-bd83-28a38da56761",
   "metadata": {},
   "source": [
    "Elabore um programa que receba 5 úmeros digitados via teclado,  valores aleatórios, e  ao final exibir no vídeo a soma  e a média aritmética dos valores informados;"
   ]
  },
  {
   "cell_type": "code",
   "execution_count": 1,
   "id": "fa194055-46c6-4487-9170-27d2d0e3e796",
   "metadata": {},
   "outputs": [
    {
     "name": "stdin",
     "output_type": "stream",
     "text": [
      "Informe o número:  7\n",
      "Informe o número:  8\n",
      "Informe o número:  10\n",
      "Informe o número:  4\n",
      "Informe o número:  20\n"
     ]
    },
    {
     "name": "stdout",
     "output_type": "stream",
     "text": [
      "A soma dos números informadod ==> 49, a média ===> 9.80\n"
     ]
    }
   ],
   "source": [
    "# Preparação\n",
    "soma = 0\n",
    "\n",
    "# Recebendo as entradas e processando\n",
    "for i in range(5):\n",
    "    numero = int(input('Informe o número: '))\n",
    "    soma += numero\n",
    "media = soma / 5\n",
    "\n",
    "# Apresentando as saídas\n",
    "print(f'A soma dos números informadod ==> {soma}, a média ===> {media:.2f}')"
   ]
  },
  {
   "cell_type": "code",
   "execution_count": null,
   "id": "73ce1016-9f86-4be0-9422-a71d242cc552",
   "metadata": {},
   "outputs": [],
   "source": []
  }
 ],
 "metadata": {
  "kernelspec": {
   "display_name": "Python 3 (ipykernel)",
   "language": "python",
   "name": "python3"
  },
  "language_info": {
   "codemirror_mode": {
    "name": "ipython",
    "version": 3
   },
   "file_extension": ".py",
   "mimetype": "text/x-python",
   "name": "python",
   "nbconvert_exporter": "python",
   "pygments_lexer": "ipython3",
   "version": "3.11.7"
  }
 },
 "nbformat": 4,
 "nbformat_minor": 5
}
