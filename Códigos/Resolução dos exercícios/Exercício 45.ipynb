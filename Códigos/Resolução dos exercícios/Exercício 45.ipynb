{
 "cells": [
  {
   "cell_type": "markdown",
   "id": "b7d64c06-ebf8-4a8b-9ec0-7c50d1bacae1",
   "metadata": {},
   "source": [
    "Classe Nome Completo  \n",
    "Atributo: nomecompleto  \n",
    "Metodos:primeiroNome  \n",
    "            ultimoNome  \n",
    "\tnomeAbreviado – primeiro nome, iniciais, ultimo nome  \n",
    "  \n",
    "Obs. Não abrevias as preposições de, do, dos, da, das, e  \n",
    "Em todos os métodos devem ser retornado apena a primeira letra em maiúsculo e as prosisões sempre em minúsculo   \n",
    "Exemplo: Luiz Fernando de Menezes Calabria Luiz F de M Calabria  \n"
   ]
  },
  {
   "cell_type": "code",
   "execution_count": 27,
   "id": "5b2ba39c-1794-45b5-9b0c-98dab5e8890a",
   "metadata": {},
   "outputs": [],
   "source": [
    "class NomeCompleto():\n",
    "    def __init__(self,nome):\n",
    "        if len(nome) < 6:\n",
    "            raise ValueError(\"Nome inválido\")\n",
    "        self.__nome = nome\n",
    "    def getNome(self):\n",
    "        return self.__nome\n",
    "    def setNome(self,nome):\n",
    "        if len(nome) < 6:\n",
    "            raise ValueError(\"Nome inválido\")\n",
    "        self.__nome = nome\n",
    "    def primeiroNome(self):\n",
    "        pos = self.__nome.find(' ')\n",
    "        if pos == -1:\n",
    "            return self.__nome.title()\n",
    "        else:\n",
    "            return self.__nome[:pos].title()\n",
    "    def ultimoNome(self):\n",
    "        nome = self.__nome[::-1]\n",
    "        pos = nome.find(' ')\n",
    "        if pos == -1:\n",
    "            return self.__nome.title()\n",
    "        else:\n",
    "            return nome[:pos][::-1].title()\n",
    "    def nomeAbreviado(self):\n",
    "        nomes = self.__nome.split(' ')\n",
    "        if len(nomes) < 3:\n",
    "            return self.__nome.title()\n",
    "        nomes.pop(0)\n",
    "        nomes.pop(len(nomes)-1)\n",
    "        abreviado = []\n",
    "        abreviado.append(self.primeiroNome())\n",
    "        for n in nomes:\n",
    "            if n.lower() in ['de', 'do', 'dos', 'da', 'das', 'e']:\n",
    "                abreviado.append(n.lower())\n",
    "            else:\n",
    "                abreviado.append(n.upper()[0])\n",
    "        abreviado.append(self.ultimoNome())\n",
    "        return \" \".join(abreviado)"
   ]
  },
  {
   "cell_type": "code",
   "execution_count": 28,
   "id": "af13a96f-7f7f-4abe-8529-71846b78e54a",
   "metadata": {},
   "outputs": [
    {
     "name": "stdout",
     "output_type": "stream",
     "text": [
      "Luiz\n",
      "Calabria\n",
      "Luiz F de M Calabria\n"
     ]
    }
   ],
   "source": [
    "nome = NomeCompleto(\"Luiz Fernando de menzes calabria\")\n",
    "print(nome.primeiroNome())\n",
    "print(nome.ultimoNome())\n",
    "print(nome.nomeAbreviado())\n"
   ]
  },
  {
   "cell_type": "code",
   "execution_count": null,
   "id": "5533ba50-4a5c-477c-a2fe-bb4080b6a715",
   "metadata": {},
   "outputs": [],
   "source": []
  }
 ],
 "metadata": {
  "kernelspec": {
   "display_name": "Python 3 (ipykernel)",
   "language": "python",
   "name": "python3"
  },
  "language_info": {
   "codemirror_mode": {
    "name": "ipython",
    "version": 3
   },
   "file_extension": ".py",
   "mimetype": "text/x-python",
   "name": "python",
   "nbconvert_exporter": "python",
   "pygments_lexer": "ipython3",
   "version": "3.11.7"
  }
 },
 "nbformat": 4,
 "nbformat_minor": 5
}
