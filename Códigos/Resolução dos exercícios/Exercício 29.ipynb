{
 "cells": [
  {
   "cell_type": "markdown",
   "id": "0e528830-e6d7-4418-9c14-765cf0457afa",
   "metadata": {},
   "source": [
    "Obter a série de Fibonacci até o termo N informado por teclado.  \n",
    "A Série de Fibonacci é assim definida: o, 1, 1, 2, 3, 5, 8, 13, 21, 34, 55, .\n"
   ]
  },
  {
   "cell_type": "code",
   "execution_count": 11,
   "id": "6ef9a852-8b29-4b8e-8b1c-7d3bff97e418",
   "metadata": {},
   "outputs": [
    {
     "name": "stdin",
     "output_type": "stream",
     "text": [
      "Informe o termo desejado:  10\n"
     ]
    },
    {
     "name": "stdout",
     "output_type": "stream",
     "text": [
      "A sequencia de Fibonacci ate o 10º termo: 0, 1, 1, 2, 3, 5, 8, 13, 21, 34\n"
     ]
    }
   ],
   "source": [
    "# Preparação\n",
    "sequencia = []\n",
    "\n",
    "# Recebendo as entradas \n",
    "termo = int(input('Informe o termo desejado: '))\n",
    "\n",
    "# Processamento\n",
    "if termo == 1:\n",
    "    sequencia.append('0')\n",
    "elif termo == 2:\n",
    "    sequencia.append('0')\n",
    "    sequencia.append('1')\n",
    "elif termo < 1:\n",
    "    print(\"Termo inválido\")\n",
    "else:\n",
    "    p1 = 0\n",
    "    p2 = 1\n",
    "    sequencia.append('0')\n",
    "    sequencia.append('1')\n",
    "    for i in range(2,termo):\n",
    "        p3 = p1 + p2\n",
    "        sequencia.append(str(p3))\n",
    "        p1 = p2\n",
    "        p2 = p3\n",
    "        \n",
    "# Apresentando as saídas\n",
    "if termo > 0:\n",
    "    print(f'A sequencia de Fibonacci ate o {termo}º termo: {\", \".join(sequencia)}')"
   ]
  },
  {
   "cell_type": "code",
   "execution_count": null,
   "id": "9459716a-ecb5-4691-986e-f2942783e90f",
   "metadata": {},
   "outputs": [],
   "source": []
  }
 ],
 "metadata": {
  "kernelspec": {
   "display_name": "Python 3 (ipykernel)",
   "language": "python",
   "name": "python3"
  },
  "language_info": {
   "codemirror_mode": {
    "name": "ipython",
    "version": 3
   },
   "file_extension": ".py",
   "mimetype": "text/x-python",
   "name": "python",
   "nbconvert_exporter": "python",
   "pygments_lexer": "ipython3",
   "version": "3.11.7"
  }
 },
 "nbformat": 4,
 "nbformat_minor": 5
}
