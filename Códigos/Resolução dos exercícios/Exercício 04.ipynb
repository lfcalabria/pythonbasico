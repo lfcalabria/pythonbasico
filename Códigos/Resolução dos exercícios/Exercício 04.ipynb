{
 "cells": [
  {
   "attachments": {},
   "cell_type": "markdown",
   "id": "45922178-6576-4d84-a037-400df000a045",
   "metadata": {},
   "source": [
    "A empresa Treina Recife remunera seus professores por hora, logo precisa que você escreva um programa que receba do teclado  a quantidade de horas trabalhadas por um professor no mês e  o valor da hora trabalhada. Calcular e exibir na tela o valor que o professor  irá receber naquele mês."
   ]
  },
  {
   "cell_type": "code",
   "execution_count": 1,
   "id": "d440c86b-d113-44f7-86e1-bb568026789d",
   "metadata": {},
   "outputs": [
    {
     "name": "stdin",
     "output_type": "stream",
     "text": [
      "Informe quantidade de horas trabalhadas no mês:  145\n",
      "Informe o valor da hora R$  15.55\n"
     ]
    },
    {
     "name": "stdout",
     "output_type": "stream",
     "text": [
      "O valor devido ao professor R$2254.75\n"
     ]
    }
   ],
   "source": [
    "# Recebendo as entradas do problema\n",
    "horastrabalhadas = int(input('Informe quantidade de horas trabalhadas no mês: '))\n",
    "valorhora = float(input('Informe o valor da hora R$ '))\n",
    "\n",
    "# Fazendo o processamento\n",
    "valordevido = horastrabalhadas * valorhora\n",
    "\n",
    "#Apresentando as saídas\n",
    "print(f'O valor devido ao professor R${valordevid:.2f}')"
   ]
  },
  {
   "cell_type": "code",
   "execution_count": null,
   "id": "0271d71f-741c-4da4-bc4a-ab97bfdff270",
   "metadata": {},
   "outputs": [],
   "source": []
  }
 ],
 "metadata": {
  "kernelspec": {
   "display_name": "Python 3 (ipykernel)",
   "language": "python",
   "name": "python3"
  },
  "language_info": {
   "codemirror_mode": {
    "name": "ipython",
    "version": 3
   },
   "file_extension": ".py",
   "mimetype": "text/x-python",
   "name": "python",
   "nbconvert_exporter": "python",
   "pygments_lexer": "ipython3",
   "version": "3.11.7"
  }
 },
 "nbformat": 4,
 "nbformat_minor": 5
}
