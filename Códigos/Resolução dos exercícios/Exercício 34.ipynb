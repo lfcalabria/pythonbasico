{
 "cells": [
  {
   "cell_type": "markdown",
   "id": "beee750f-8023-4759-9bc6-92f079241c20",
   "metadata": {},
   "source": [
    "Fazer um programa que receba o sexo e a idade de um grupo de pessoas o recebimento encerra-se quando digitar o sexo sem informação, ao final mostar a média de idade e o percentual de pessoas de cada sexo.\n"
   ]
  },
  {
   "cell_type": "code",
   "execution_count": 7,
   "id": "d06ed905-7cb2-49a9-a5a0-6fe1620affa0",
   "metadata": {},
   "outputs": [
    {
     "name": "stdin",
     "output_type": "stream",
     "text": [
      "Informe o sexo:  M\n",
      "Informe a idade:  15\n",
      "Informe o sexo:  M\n",
      "Informe a idade:  30\n",
      "Informe o sexo:  F\n",
      "Informe a idade:  45\n",
      "Informe o sexo:  \n"
     ]
    },
    {
     "name": "stdout",
     "output_type": "stream",
     "text": [
      "A média das idade das mulheres foi 45.00 e teve 33.33% de participação\n",
      "A média das idade dos homens foi 22.50 e teve 66.67% de participação\n"
     ]
    }
   ],
   "source": [
    "somaidadef = 0\n",
    "contaf = 0\n",
    "somaidadem = 0\n",
    "contam = 0\n",
    "while True:\n",
    "    try:\n",
    "        sexo = input('Informe o sexo: ').upper()[0]\n",
    "    except IndexError:\n",
    "        break\n",
    "    if sexo not in ['F','M']:\n",
    "        print('Sexo inválido')\n",
    "        continue\n",
    "    try:\n",
    "        idade = int(input('Informe a idade: '))\n",
    "        if idade < 0 or idade > 140:\n",
    "            print('Idade inválida')\n",
    "            continue \n",
    "    except ValueError:\n",
    "        print('Idade inválida')\n",
    "        continue\n",
    "    if sexo == 'F':\n",
    "        contaf += 1\n",
    "        somaidadef += idade\n",
    "    else:\n",
    "        contam += 1\n",
    "        somaidadem += idade\n",
    "try:\n",
    "    print(f'A média das idade das mulheres foi {somaidadef/contaf:.2f} e teve {contaf/(contaf+contam):.2%} de participação')\n",
    "except ZeroDivisionError:\n",
    "    print('Não houve partricipação feminina no evento')\n",
    "try:\n",
    "    print(f'A média das idade dos homens foi {somaidadem/contam:.2f} e teve {contam/(contaf+contam):.2%} de participação')\n",
    "except ZeroDivisionError:\n",
    "    print('Não houve partricipação masculina no evento')"
   ]
  },
  {
   "cell_type": "code",
   "execution_count": null,
   "id": "a3cc4836-7beb-48f1-891b-a859ab3a2db8",
   "metadata": {},
   "outputs": [],
   "source": []
  }
 ],
 "metadata": {
  "kernelspec": {
   "display_name": "Python 3 (ipykernel)",
   "language": "python",
   "name": "python3"
  },
  "language_info": {
   "codemirror_mode": {
    "name": "ipython",
    "version": 3
   },
   "file_extension": ".py",
   "mimetype": "text/x-python",
   "name": "python",
   "nbconvert_exporter": "python",
   "pygments_lexer": "ipython3",
   "version": "3.11.7"
  }
 },
 "nbformat": 4,
 "nbformat_minor": 5
}
