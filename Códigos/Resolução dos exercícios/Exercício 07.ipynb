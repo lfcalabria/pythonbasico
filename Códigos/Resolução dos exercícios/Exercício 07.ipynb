{
 "cells": [
  {
   "attachments": {},
   "cell_type": "markdown",
   "id": "c5905fac-57b4-4564-a274-9ad2ce405405",
   "metadata": {},
   "source": [
    "Faça um programa que receba do teclado o salário fixo de um vendedor e o total de vendas efetuadas por ele no mês em dinheiro. Sabendo que este vendedor ganha 15% de comissão sobre suas vendas efetuadas no mês, informar o total a receber no final do mês."
   ]
  },
  {
   "cell_type": "code",
   "execution_count": 1,
   "id": "09f21a82-4dfa-4d5e-add8-ba4fd8a4ecb4",
   "metadata": {},
   "outputs": [
    {
     "name": "stdin",
     "output_type": "stream",
     "text": [
      "Informe salário fixo do vendedor R$ 1567\n",
      "Informe o total de cas vendas do vendedor R$ 3789\n"
     ]
    },
    {
     "name": "stdout",
     "output_type": "stream",
     "text": [
      "O salário devido R$2135.35\n"
     ]
    }
   ],
   "source": [
    "# Recebendo as entradas do problema\n",
    "salario_fixo = float(input('Informe salário fixo do vendedor R$'))\n",
    "vendas = float(input('Informe o total de cas vendas do vendedor R$'))\n",
    "\n",
    "# Fazendo o processamento\n",
    "comissao = vendas * 0.15\n",
    "a_receber = salario_fixo + comissao\n",
    "\n",
    "#Apresentando as saídas\n",
    "print(f'O salário devido R${a_receber:.2f}')"
   ]
  },
  {
   "cell_type": "code",
   "execution_count": null,
   "id": "44148d79-1622-4ef8-9f73-29c82732e464",
   "metadata": {},
   "outputs": [],
   "source": []
  }
 ],
 "metadata": {
  "kernelspec": {
   "display_name": "Python 3 (ipykernel)",
   "language": "python",
   "name": "python3"
  },
  "language_info": {
   "codemirror_mode": {
    "name": "ipython",
    "version": 3
   },
   "file_extension": ".py",
   "mimetype": "text/x-python",
   "name": "python",
   "nbconvert_exporter": "python",
   "pygments_lexer": "ipython3",
   "version": "3.11.7"
  }
 },
 "nbformat": 4,
 "nbformat_minor": 5
}
