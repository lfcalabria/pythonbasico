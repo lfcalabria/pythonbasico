{
 "cells": [
  {
   "attachments": {},
   "cell_type": "markdown",
   "id": "79ff3493-1253-4506-9c9a-1af779049df5",
   "metadata": {},
   "source": [
    "Elabore um programa que receba pesos de pessoas aleatóriamente via teclado. Encerrar o recebimento quando receber um peso com valor superior  a 200 kg, este não deverá entrar nos cálculos. Ao final exibir  o menor peso recebido"
   ]
  },
  {
   "cell_type": "code",
   "execution_count": 4,
   "id": "4b41b5f0-1e09-4d13-86c4-bada7d2655ea",
   "metadata": {},
   "outputs": [
    {
     "name": "stdin",
     "output_type": "stream",
     "text": [
      "Informe o peso:  70\n",
      "Informe o peso:  85.6\n",
      "Informe o peso:  100\n",
      "Informe o peso:  40\n",
      "Informe o peso:  301\n"
     ]
    },
    {
     "name": "stdout",
     "output_type": "stream",
     "text": [
      "O menor peso informado foi 40.0 \n"
     ]
    }
   ],
   "source": [
    "# Preparação\n",
    "menorpeso = float('inf')\n",
    "\n",
    "# Recebendo as entradas e processando\n",
    "while True:\n",
    "    peso = float(input('Informe o peso: '))\n",
    "    if peso > 200: break\n",
    "    if peso < menorpeso:\n",
    "        menorpeso = peso\n",
    "        \n",
    "# Apresentando as saídas\n",
    "print(f'O menor peso informado foi {menorpeso} ')"
   ]
  },
  {
   "cell_type": "code",
   "execution_count": null,
   "id": "d9780b35-8262-40d1-98e4-58dbc0b65f12",
   "metadata": {},
   "outputs": [],
   "source": []
  }
 ],
 "metadata": {
  "kernelspec": {
   "display_name": "Python 3 (ipykernel)",
   "language": "python",
   "name": "python3"
  },
  "language_info": {
   "codemirror_mode": {
    "name": "ipython",
    "version": 3
   },
   "file_extension": ".py",
   "mimetype": "text/x-python",
   "name": "python",
   "nbconvert_exporter": "python",
   "pygments_lexer": "ipython3",
   "version": "3.11.7"
  }
 },
 "nbformat": 4,
 "nbformat_minor": 5
}
