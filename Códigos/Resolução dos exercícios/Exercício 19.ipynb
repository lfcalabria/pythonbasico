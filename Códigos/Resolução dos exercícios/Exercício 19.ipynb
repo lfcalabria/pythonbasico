{
 "cells": [
  {
   "attachments": {},
   "cell_type": "markdown",
   "id": "d42c412c-e7b0-4759-a6b6-a0becdf8de45",
   "metadata": {},
   "source": [
    "Elabore um programa que permita exibir na tela a tabuada de um número inteiro informado via teclado – Observe que a tabuada deverá formato abaixo:  \n",
    "7 x 1 = 7  \n",
    "7 x 2 = 14  \n",
    "7 x 3 = 21  \n",
    "7 x 4 = 28  \n",
    "7 x 5 = 35  \n",
    "7 x 6 = 42  \n",
    "7 x 7 = 49  \n",
    "7 x 8 = 56  \n",
    "7 x 9 = 63  \n",
    "7 x 10 = 70"
   ]
  },
  {
   "cell_type": "code",
   "execution_count": 1,
   "id": "b756980a-8e05-40e3-a54a-6e5d7abc8d73",
   "metadata": {},
   "outputs": [
    {
     "name": "stdin",
     "output_type": "stream",
     "text": [
      "Informe o número:  7\n"
     ]
    },
    {
     "name": "stdout",
     "output_type": "stream",
     "text": [
      "7 x 1 = 7\n",
      "7 x 2 = 14\n",
      "7 x 3 = 21\n",
      "7 x 4 = 28\n",
      "7 x 5 = 35\n",
      "7 x 6 = 42\n",
      "7 x 7 = 49\n",
      "7 x 8 = 56\n",
      "7 x 9 = 63\n",
      "7 x 10 = 70\n"
     ]
    }
   ],
   "source": [
    "# Recebendo as entradas do problema\n",
    "numero = int(input('Informe o número: '))\n",
    "\n",
    "# Processamento e Apresentando as saídas\n",
    "for i in range(1,11):\n",
    "    print(f'{numero} x {i} = {numero*i}')"
   ]
  },
  {
   "cell_type": "code",
   "execution_count": null,
   "id": "dcd92f75-0363-4f11-8c79-d21db2719631",
   "metadata": {},
   "outputs": [],
   "source": []
  }
 ],
 "metadata": {
  "kernelspec": {
   "display_name": "Python 3 (ipykernel)",
   "language": "python",
   "name": "python3"
  },
  "language_info": {
   "codemirror_mode": {
    "name": "ipython",
    "version": 3
   },
   "file_extension": ".py",
   "mimetype": "text/x-python",
   "name": "python",
   "nbconvert_exporter": "python",
   "pygments_lexer": "ipython3",
   "version": "3.11.7"
  }
 },
 "nbformat": 4,
 "nbformat_minor": 5
}
