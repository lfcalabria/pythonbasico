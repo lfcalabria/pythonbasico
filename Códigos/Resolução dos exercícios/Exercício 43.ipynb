{
 "cells": [
  {
   "cell_type": "markdown",
   "id": "3f9d8351-d5fd-4a3a-963c-06636ca72a63",
   "metadata": {},
   "source": [
    "Crie uma classe que modele uma pessoa:  \n",
    "Atributos: nome, idade, peso e altura  \n",
    "Métodos: Envelhercer,   \n",
    "         Engordar,   \n",
    "         Emagrecer,   \n",
    "         Crescer.   \n",
    " Obs: Por padrão, a cada ano que nossa pessoa envelhece, sendo a idade dela menor que 21 anos, ela deve crescer 0,05 cm.   \n",
    "      Não deve ser criado métodos para a alteração de peso for os descritos,   \n",
    "      Também não deve ser criado método para alterar a idade além do método envelhecer.    \n",
    "       A altura só é alterada com o método crescer\r\n"
   ]
  },
  {
   "cell_type": "code",
   "execution_count": 20,
   "id": "b86a85e4-1441-4d93-a3bb-925c8c07a2b0",
   "metadata": {},
   "outputs": [],
   "source": [
    "class Pessoa():\n",
    "    def __init__(self,nome,peso,altura):\n",
    "        self.__nome = nome\n",
    "        self.__peso = peso\n",
    "        self.__altura = altura\n",
    "        self.__idade = 0\n",
    "    def getNome(self):\n",
    "        return self.__nome\n",
    "    def getPeso(self):\n",
    "        return self.__peso\n",
    "    def getAltura(self):\n",
    "        return self.__altura\n",
    "    def getIdade(self):\n",
    "        return self.__idade\n",
    "    def setNome(self,nome):\n",
    "        if len(nome) < 6:\n",
    "            raise ValueError('Nome inválido')\n",
    "        self.__nome = nome\n",
    "    def crescer(self,cm):\n",
    "        try:\n",
    "            self.__altura += int(cm)/100\n",
    "        except Exception:\n",
    "            raise ValueError('Altura inválida')\n",
    "    def engordar(self,kg):\n",
    "        try:\n",
    "            self.__peso += float(kg)\n",
    "        except Exception:\n",
    "            raise ValueError('Peso inválido')\n",
    "        if kg < 0:\n",
    "            raise ValueError('Altura inválida')\n",
    "    def emagrecer(self,kg):\n",
    "        try:\n",
    "            self.__peso -= float(kg)\n",
    "        except Exception:\n",
    "            raise ValueError('Peso inválido')\n",
    "        if kg < 0:\n",
    "            raise ValueError('Altura inválida')\n",
    "    def envelhecer(self):\n",
    "        self.__idade += 1\n",
    "        if self.__idade <= 21:\n",
    "            self.__altura += 0.05\n",
    "    def __str__(self):\n",
    "        return f'{self.__nome} tem {self.__idade} anos, pesa {self.__peso}kg e mede {self.__altura}m'"
   ]
  },
  {
   "cell_type": "code",
   "execution_count": 21,
   "id": "143dfb32-c6c7-40ff-9c7d-7297cab5a1cd",
   "metadata": {},
   "outputs": [
    {
     "name": "stdout",
     "output_type": "stream",
     "text": [
      "Luiz tem 0 anos, pesa 4.5kg e mede 0.5m\n",
      "Luiz tem 1 anos, pesa 4.5kg e mede 0.55m\n",
      "Luiz tem 1 anos, pesa 6.0kg e mede 0.55m\n",
      "Luiz tem 1 anos, pesa 5.5kg e mede 0.55m\n",
      "Luiz tem 1 anos, pesa 5.5kg e mede 1.05m\n"
     ]
    }
   ],
   "source": [
    "p = Pessoa('Luiz',4.5,.5)\n",
    "print(p)\n",
    "p.envelhecer()\n",
    "print(p)\n",
    "p.engordar(1.5)\n",
    "print(p)\n",
    "p.emagrecer(.5)\n",
    "print(p)\n",
    "p.crescer(50)\n",
    "print(p)"
   ]
  },
  {
   "cell_type": "code",
   "execution_count": null,
   "id": "c310db6b-bc49-455d-bc20-3e057e07993a",
   "metadata": {},
   "outputs": [],
   "source": []
  }
 ],
 "metadata": {
  "kernelspec": {
   "display_name": "Python 3 (ipykernel)",
   "language": "python",
   "name": "python3"
  },
  "language_info": {
   "codemirror_mode": {
    "name": "ipython",
    "version": 3
   },
   "file_extension": ".py",
   "mimetype": "text/x-python",
   "name": "python",
   "nbconvert_exporter": "python",
   "pygments_lexer": "ipython3",
   "version": "3.11.7"
  }
 },
 "nbformat": 4,
 "nbformat_minor": 5
}
