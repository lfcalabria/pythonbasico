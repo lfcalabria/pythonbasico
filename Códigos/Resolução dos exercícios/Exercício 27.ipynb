{
 "cells": [
  {
   "cell_type": "markdown",
   "id": "71bb0d3c-d62f-4279-a980-c03e01904338",
   "metadata": {},
   "source": [
    "Elabore um programa que receba idades de pessoas via teclado. Encerrar o recebimento quando receber uma idade com valor igual a 100, esta não deverá entrar nos cálculos. Ao final exibir a maior idade recebida"
   ]
  },
  {
   "cell_type": "code",
   "execution_count": 2,
   "id": "9eab7aff-3a14-45b2-9c35-07bfbe46fe72",
   "metadata": {},
   "outputs": [
    {
     "name": "stdin",
     "output_type": "stream",
     "text": [
      "Informe uma idade:  7\n",
      "Informe uma idade:  8\n",
      "Informe uma idade:  10\n",
      "Informe uma idade:  4\n",
      "Informe uma idade:  100\n"
     ]
    },
    {
     "name": "stdout",
     "output_type": "stream",
     "text": [
      "A maior idade informada foi 0 \n"
     ]
    }
   ],
   "source": [
    "# Preparação\n",
    "maioridade = 0\n",
    "\n",
    "# Recebendo as entradas e processando\n",
    "while True:\n",
    "    idade = int(input('Informe uma idade: '))\n",
    "    if idade == 100: break\n",
    "    if idade > maioidade:\n",
    "        maioridade = idade\n",
    "        \n",
    "# Apresentando as saídas\n",
    "print(f'A maior idade informada foi {maioridade} ')"
   ]
  },
  {
   "cell_type": "code",
   "execution_count": null,
   "id": "db035ec3-4c0a-4164-985f-e6114f012ec5",
   "metadata": {},
   "outputs": [],
   "source": []
  }
 ],
 "metadata": {
  "kernelspec": {
   "display_name": "Python 3 (ipykernel)",
   "language": "python",
   "name": "python3"
  },
  "language_info": {
   "codemirror_mode": {
    "name": "ipython",
    "version": 3
   },
   "file_extension": ".py",
   "mimetype": "text/x-python",
   "name": "python",
   "nbconvert_exporter": "python",
   "pygments_lexer": "ipython3",
   "version": "3.11.7"
  }
 },
 "nbformat": 4,
 "nbformat_minor": 5
}
