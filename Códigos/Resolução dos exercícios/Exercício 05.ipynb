{
 "cells": [
  {
   "attachments": {},
   "cell_type": "markdown",
   "id": "2fa2ddc0-ba30-4477-9eb1-b70a8fac12e4",
   "metadata": {},
   "source": [
    "Faça um programa que receba a soma de todas as verbas recebidas por um funcionário no mês (salário, horas-extras e comissões) em uma variável do tipo real denominada **Salário Bruto**. Após o recebimento, calcule e exiba na tela:\r\n",
    "\r\n",
    "- o valor do **Imposto de Renda**\r\n",
    "- o valor do **INSS**\r\n",
    "- e o **salário líquido**, que é obtido abatendo-se do salário bruto a soma dos descontos descritos na tabela abaixo:\r\n",
    "\r\n",
    "<table>\r\n",
    "  <tr>\r\n",
    "    <td style=\"background-color:#f2f2f2; font-weight:bold; padding:10px;\">Descontos</td>\r\n",
    "    <td style=\"padding:10px;\">\r\n",
    "      - Imposto de Renda → 5% do salário bruto<br>\r\n",
    "      - INSS → 11% do salário bruto\r\n",
    "    </td>\r\n",
    "  </tr>\r\n",
    "</table>\r\n",
    "</table>>\r\n",
    "</table>\r\n"
   ]
  },
  {
   "cell_type": "code",
   "execution_count": 2,
   "id": "abcf77f6-8f06-4380-883f-b257186eafde",
   "metadata": {},
   "outputs": [
    {
     "name": "stdin",
     "output_type": "stream",
     "text": [
      "Digite o salário bruto R$  2000\n"
     ]
    },
    {
     "name": "stdout",
     "output_type": "stream",
     "text": [
      "O salário bruto de R$2000.00 teve R$100.00 de desconto de IR e R$220.00 de desconto de INSS ficando com um líquido de R$1680.00\n"
     ]
    }
   ],
   "source": [
    "# Recebendo as entradas do problema\n",
    "salario_bruto = float(input(\"Digite o salário bruto R$ \"))\n",
    "\n",
    "\n",
    "# Fazendo o processamento\n",
    "imposto_renda = salario_bruto * 0.05 \n",
    "inss = salario_bruto * 0.11\n",
    "salario_liquido = salario_bruto - (imposto_renda + inss)\n",
    "\n",
    "#Apresentando as saídas\n",
    "print(f'O salário bruto de R${salario_bruto:.2f} teve R${imposto_renda:.2f} de desconto de IR e R${inss:.2f} de desconto de INSS ficando com um líquido de R${salario_liquido:.2f}')"
   ]
  }
 ],
 "metadata": {
  "kernelspec": {
   "display_name": "Python 3 (ipykernel)",
   "language": "python",
   "name": "python3"
  },
  "language_info": {
   "codemirror_mode": {
    "name": "ipython",
    "version": 3
   },
   "file_extension": ".py",
   "mimetype": "text/x-python",
   "name": "python",
   "nbconvert_exporter": "python",
   "pygments_lexer": "ipython3",
   "version": "3.11.7"
  }
 },
 "nbformat": 4,
 "nbformat_minor": 5
}
