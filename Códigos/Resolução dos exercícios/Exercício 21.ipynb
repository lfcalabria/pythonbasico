{
 "cells": [
  {
   "attachments": {},
   "cell_type": "markdown",
   "id": "0e1e0719-2be0-4b33-a489-808243da2409",
   "metadata": {},
   "source": [
    "Elabore um programa  que receba um número inteiro via teclado e  exiba todos os números impares inferiores a ele. \r\n",
    "Ex.: Se for recebido o número 7, exibir os números 1, 3,e 5\r\n"
   ]
  },
  {
   "cell_type": "code",
   "execution_count": 2,
   "id": "cc7f6be5-294c-482d-85c5-97aa3520529c",
   "metadata": {},
   "outputs": [
    {
     "name": "stdin",
     "output_type": "stream",
     "text": [
      "Informe o número:  7\n"
     ]
    },
    {
     "name": "stdout",
     "output_type": "stream",
     "text": [
      "Os números ímpares são: 1, 3, 5\n"
     ]
    }
   ],
   "source": [
    "# Recebendo as entradas do problema\n",
    "numero = int(input('Informe o número: '))\n",
    "\n",
    "# Processamento \n",
    "lista = []\n",
    "for i in range(1,numero, 2):\n",
    "    lista.append(str(i))\n",
    "\n",
    "# Apresentando as saídas\n",
    "print('Os números ímpares são:',\", \".join(lista))"
   ]
  },
  {
   "cell_type": "code",
   "execution_count": null,
   "id": "180f728d-0f5e-47ab-802e-f94294b14444",
   "metadata": {},
   "outputs": [],
   "source": []
  }
 ],
 "metadata": {
  "kernelspec": {
   "display_name": "Python 3 (ipykernel)",
   "language": "python",
   "name": "python3"
  },
  "language_info": {
   "codemirror_mode": {
    "name": "ipython",
    "version": 3
   },
   "file_extension": ".py",
   "mimetype": "text/x-python",
   "name": "python",
   "nbconvert_exporter": "python",
   "pygments_lexer": "ipython3",
   "version": "3.11.7"
  }
 },
 "nbformat": 4,
 "nbformat_minor": 5
}
