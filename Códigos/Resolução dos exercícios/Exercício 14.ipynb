{
 "cells": [
  {
   "cell_type": "markdown",
   "id": "97ba7c24-314d-4c66-8eab-234fb22c9254",
   "metadata": {},
   "source": [
    "Elabore um programa  que permita receber uma frase via teclado e  exibir no vídeo a quantidade de letras “a” em qualquer grafia existentes na frase e  a frase recebida invertida"
   ]
  },
  {
   "cell_type": "code",
   "execution_count": 5,
   "id": "09ec1bb6-ca13-401a-b340-2dd8215a9758",
   "metadata": {},
   "outputs": [
    {
     "name": "stdin",
     "output_type": "stream",
     "text": [
      "Informe uma frase:  Aulas de lógica com Python para iniciantes\n"
     ]
    },
    {
     "name": "stdout",
     "output_type": "stream",
     "text": [
      "A quantidade de letras A em qualquer grafia na frase: 6\n",
      "setnaicini arap nohtyP moc acigól ed saluA\n"
     ]
    }
   ],
   "source": [
    "# Recebendo as entradas do problema\n",
    "frase = input('Informe uma frase: ')\n",
    "\n",
    "# Fazendo o processamento\n",
    "contaA = frase.upper().replace('À','A').replace('Á','A').replace('Â','A').replace('Ã','A').count('A')\n",
    "\n",
    "#Apresentando as saídas\n",
    "print(f'A quantidade de letras A em qualquer grafia na frase: {contaA}')\n",
    "print(frase[::-1])"
   ]
  },
  {
   "cell_type": "code",
   "execution_count": null,
   "id": "01386083-5e8b-449b-9f48-6407e47e2ee5",
   "metadata": {},
   "outputs": [],
   "source": []
  }
 ],
 "metadata": {
  "kernelspec": {
   "display_name": "Python 3 (ipykernel)",
   "language": "python",
   "name": "python3"
  },
  "language_info": {
   "codemirror_mode": {
    "name": "ipython",
    "version": 3
   },
   "file_extension": ".py",
   "mimetype": "text/x-python",
   "name": "python",
   "nbconvert_exporter": "python",
   "pygments_lexer": "ipython3",
   "version": "3.11.7"
  }
 },
 "nbformat": 4,
 "nbformat_minor": 5
}
