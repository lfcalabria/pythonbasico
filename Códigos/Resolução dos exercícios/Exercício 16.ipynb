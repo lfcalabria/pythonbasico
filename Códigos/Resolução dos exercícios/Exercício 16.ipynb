{
 "cells": [
  {
   "attachments": {},
   "cell_type": "markdown",
   "id": "7c2e6901-7950-4509-874e-4607e1b8ab46",
   "metadata": {},
   "source": [
    "Devido à proximidade com o Dia do Trabalho, uma empresa resolveu conceder aumentos salariais a seus funcionários. Aqueles com salário inferior a R$ 1100, terão aumento de 10%, enquanto os que ganham até R$ 2000 terão aumento de 7%. Os demais funcionários terão aumento de apenas 5%. Escreva um programa que receba via teclado o salário atual de um funcionário, calcule e exiba o valor de seu novo salário já com o aumento concedido."
   ]
  },
  {
   "cell_type": "code",
   "execution_count": null,
   "id": "c65c7f8f-3ae6-49cb-aed2-9cf416e422b9",
   "metadata": {},
   "outputs": [],
   "source": [
    "# Recebendo as entradas do problema\n",
    "salario = float(input('Informe o salário atual R$'))\n",
    "\n",
    "# Fazendo o processamento\n",
    "if salario < 1100:\n",
    "    novosalario = salario * 1.1\n",
    "elif salario <= 2000:\n",
    "    novosalario = salario * 1.07\n",
    "else:    \n",
    "    novosalario = salario * 1.05\n",
    "\n",
    "#Apresentando as saídas\n",
    "print(f'O salário reajusta R${novosalario:.2f}')\n"
   ]
  }
 ],
 "metadata": {
  "kernelspec": {
   "display_name": "Python 3 (ipykernel)",
   "language": "python",
   "name": "python3"
  },
  "language_info": {
   "codemirror_mode": {
    "name": "ipython",
    "version": 3
   },
   "file_extension": ".py",
   "mimetype": "text/x-python",
   "name": "python",
   "nbconvert_exporter": "python",
   "pygments_lexer": "ipython3",
   "version": "3.11.7"
  }
 },
 "nbformat": 4,
 "nbformat_minor": 5
}
