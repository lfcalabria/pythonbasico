{
 "cells": [
  {
   "attachments": {},
   "cell_type": "markdown",
   "id": "01eb48df-53ca-4512-b3bc-f5dd0f67a47e",
   "metadata": {},
   "source": [
    "João é dono de um pesque-pague em Pernambuco, toda vez que ele recebe de um cliente os peixes pescados, precisa pesar e verificar se está ok. O regulamento de pesca define que se for pescado uma quantidade de peixes com peso superior a 50 kg o cliente deve pagar um multa de R$ 4,00 por quilo excedente. Faça um programa que receba via teclado o  peso dos  peixes e verifique se há excesso. Se houver, exibir na tela o excesso do peso calculado e o valor da multa que o cliente deverá pagar ao pesque-pague. Caso contrário, mostrar a mensagem “Peso ok!”.\r\n"
   ]
  },
  {
   "cell_type": "code",
   "execution_count": 1,
   "id": "be9b003b-e2c4-4c20-9f54-4f18a16b343c",
   "metadata": {},
   "outputs": [
    {
     "name": "stdin",
     "output_type": "stream",
     "text": [
      "Informe op peso total pescado:  66\n"
     ]
    },
    {
     "ename": "NameError",
     "evalue": "name 'Print' is not defined",
     "output_type": "error",
     "traceback": [
      "\u001b[1;31m---------------------------------------------------------------------------\u001b[0m",
      "\u001b[1;31mNameError\u001b[0m                                 Traceback (most recent call last)",
      "Cell \u001b[1;32mIn[1], line 8\u001b[0m\n\u001b[0;32m      6\u001b[0m excesso \u001b[38;5;241m=\u001b[39m \u001b[38;5;241m50\u001b[39m \u001b[38;5;241m-\u001b[39m peso \n\u001b[0;32m      7\u001b[0m multa \u001b[38;5;241m=\u001b[39m excesso \u001b[38;5;241m*\u001b[39m \u001b[38;5;241m4.\u001b[39m\n\u001b[1;32m----> 8\u001b[0m Print(\u001b[38;5;124mf\u001b[39m\u001b[38;5;124m'\u001b[39m\u001b[38;5;124mExcesso de peso \u001b[39m\u001b[38;5;132;01m{\u001b[39;00mexcesso\u001b[38;5;132;01m}\u001b[39;00m\u001b[38;5;124m multa de R$\u001b[39m\u001b[38;5;132;01m{\u001b[39;00mmulta\u001b[38;5;132;01m:\u001b[39;00m\u001b[38;5;124m.2f\u001b[39m\u001b[38;5;132;01m}\u001b[39;00m\u001b[38;5;124m'\u001b[39m)\n",
      "\u001b[1;31mNameError\u001b[0m: name 'Print' is not defined"
     ]
    }
   ],
   "source": [
    "# Recebendo as entradas do problema\n",
    "peso = float(input('Informe op peso total pescado: '))\n",
    "\n",
    "# Processamento e Apresentando as saídas\n",
    "if peso > 50:\n",
    "    excesso = 50 - peso \n",
    "    multa = excesso * 4.\n",
    "    print(f'Excesso de peso {excesso} multa de R${multa:.2f}')\n",
    "else:\n",
    "    print('Peso OK!')"
   ]
  },
  {
   "cell_type": "code",
   "execution_count": null,
   "id": "127ce426-da5d-4c44-9553-fa8f07d40b08",
   "metadata": {},
   "outputs": [],
   "source": []
  }
 ],
 "metadata": {
  "kernelspec": {
   "display_name": "Python 3 (ipykernel)",
   "language": "python",
   "name": "python3"
  },
  "language_info": {
   "codemirror_mode": {
    "name": "ipython",
    "version": 3
   },
   "file_extension": ".py",
   "mimetype": "text/x-python",
   "name": "python",
   "nbconvert_exporter": "python",
   "pygments_lexer": "ipython3",
   "version": "3.11.7"
  }
 },
 "nbformat": 4,
 "nbformat_minor": 5
}
