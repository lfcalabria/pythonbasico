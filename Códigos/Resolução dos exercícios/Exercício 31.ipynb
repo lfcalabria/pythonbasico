{
 "cells": [
  {
   "cell_type": "markdown",
   "id": "5b7cb8e0-9736-468c-9b54-7d249b066eb1",
   "metadata": {},
   "source": [
    "Fazer um programa que receba a altura e sexo de 10 pessoas via teclado  e escreva ao final  a menor altura do grupo e a média da altura dos meninos;"
   ]
  },
  {
   "cell_type": "code",
   "execution_count": 4,
   "id": "f378c8ae-8fb7-434d-b538-9d72e7d36f67",
   "metadata": {},
   "outputs": [
    {
     "name": "stdin",
     "output_type": "stream",
     "text": [
      "Informe o sexo:  M\n",
      "Informe a altura:  1.75\n",
      "Informe o sexo:  F\n",
      "Informe a altura:  1.64\n",
      "Informe o sexo:  M\n",
      "Informe a altura:  1.85\n",
      "Informe o sexo:  F\n",
      "Informe a altura:  1.5\n",
      "Informe o sexo:  F\n",
      "Informe a altura:  1.62\n",
      "Informe o sexo:  F\n",
      "Informe a altura:  1.79\n",
      "Informe o sexo:  F\n",
      "Informe a altura:  1.6\n",
      "Informe o sexo:  M\n",
      "Informe a altura:  1.95\n",
      "Informe o sexo:  F\n",
      "Informe a altura:  1.51\n",
      "Informe o sexo:  F\n",
      "Informe a altura:  1.59\n"
     ]
    },
    {
     "name": "stdout",
     "output_type": "stream",
     "text": [
      "A menor altura do grupo foi 1.5\n",
      "A altura média dos meninos foi 1.85\n"
     ]
    }
   ],
   "source": [
    "# Preparação\n",
    "menoraltura = float('inf')\n",
    "somaalturam = 0\n",
    "contam = 0\n",
    "\n",
    "# Recebendo as entradas e processando\n",
    "for i in range(10):\n",
    "    sexo = input('Informe o sexo: ').upper()[0]\n",
    "    altura = float(input('Informe a altura: '))\n",
    "    if sexo == 'M':\n",
    "        somaalturam += altura\n",
    "        contam += 1\n",
    "    if altura < menoraltura:\n",
    "        menoraltura = altura\n",
    "          \n",
    "# Apresentando as saídas\n",
    "print(f'A menor altura do grupo foi {menoraltura}')\n",
    "print(f'A altura média dos meninos foi {somaalturam/contam:.2f}')\n"
   ]
  },
  {
   "cell_type": "code",
   "execution_count": null,
   "id": "ee7a58c8-ca28-4936-8014-37a81108350b",
   "metadata": {},
   "outputs": [],
   "source": []
  }
 ],
 "metadata": {
  "kernelspec": {
   "display_name": "Python 3 (ipykernel)",
   "language": "python",
   "name": "python3"
  },
  "language_info": {
   "codemirror_mode": {
    "name": "ipython",
    "version": 3
   },
   "file_extension": ".py",
   "mimetype": "text/x-python",
   "name": "python",
   "nbconvert_exporter": "python",
   "pygments_lexer": "ipython3",
   "version": "3.11.7"
  }
 },
 "nbformat": 4,
 "nbformat_minor": 5
}
