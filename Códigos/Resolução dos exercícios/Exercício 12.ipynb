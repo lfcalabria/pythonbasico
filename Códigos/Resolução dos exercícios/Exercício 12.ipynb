{
 "cells": [
  {
   "attachments": {},
   "cell_type": "markdown",
   "id": "f0a7923e-564b-4950-8fe7-08672e5957ab",
   "metadata": {},
   "source": [
    "Faça um programa que receba uma **frase qualquer informada via teclado** e escreva no vídeo:\r\n",
    "\r\n",
    "- ✂️ Os **primeiros 5 caracteres** da frase;  \r\n",
    "- 🔚 Os **últimos 5 caracteres** da frase;  \r\n",
    "- 🔁 Os **primeiros 5 caracteres invertidos**;  \r\n",
    "- 🔢 A **quantidade total de caracteres** contidos na frase.\r\n",
    "ase;\r\n"
   ]
  },
  {
   "cell_type": "code",
   "execution_count": 2,
   "id": "5a7f7f33-cdfb-475d-a820-ad3e6c8b60ae",
   "metadata": {},
   "outputs": [
    {
     "name": "stdin",
     "output_type": "stream",
     "text": [
      "Informe uma frase:  Aprendendo Python\n"
     ]
    },
    {
     "name": "stdout",
     "output_type": "stream",
     "text": [
      "Aprend\n",
      "ython\n",
      "dnerpA\n",
      "17\n"
     ]
    }
   ],
   "source": [
    "# Recebendo as entradas do problema\n",
    "frase = input('Informe uma frase: ')\n",
    "\n",
    "\n",
    "# Fazendo o processamento\n",
    "\n",
    "#Apresentando as saídas\n",
    "print(frase[:6])\n",
    "print(frase[-5:])\n",
    "print(frase[:6][::-1])\n",
    "print(len(frase))"
   ]
  },
  {
   "cell_type": "code",
   "execution_count": null,
   "id": "62d8355b-41d4-43f5-8a5d-0f2984f81426",
   "metadata": {},
   "outputs": [],
   "source": []
  }
 ],
 "metadata": {
  "kernelspec": {
   "display_name": "Python 3 (ipykernel)",
   "language": "python",
   "name": "python3"
  },
  "language_info": {
   "codemirror_mode": {
    "name": "ipython",
    "version": 3
   },
   "file_extension": ".py",
   "mimetype": "text/x-python",
   "name": "python",
   "nbconvert_exporter": "python",
   "pygments_lexer": "ipython3",
   "version": "3.11.7"
  }
 },
 "nbformat": 4,
 "nbformat_minor": 5
}
