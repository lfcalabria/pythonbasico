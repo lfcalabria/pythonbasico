{
 "cells": [
  {
   "cell_type": "markdown",
   "id": "05e6db0c-05ba-4d15-85ea-3abd44283074",
   "metadata": {},
   "source": [
    "Crie uma função que receba como parâmetro um valor em dinheiro ate a casa de bilhão e retorne este valor formatado no padrão brasileiro"
   ]
  },
  {
   "cell_type": "code",
   "execution_count": 2,
   "id": "89ebf831-8664-4e3a-946c-c1ce45901ba9",
   "metadata": {},
   "outputs": [],
   "source": [
    "def valorFormatado(valor):\n",
    "    if not isinstance(valor, (int, float)):\n",
    "        raise TypeError(\"Tipo de dado incorreto.\")\n",
    "    numero = str(valor).split('.')\n",
    "    inteiro = numero[0].rjust(12,'0')\n",
    "    if len(numero) == 2:\n",
    "        decimal = int(numero[1]) \n",
    "    else:\n",
    "        decimal = 0\n",
    "    if decimal > 100 or int(numero[0]) > 999999999999:\n",
    "        raise ValueError(\"Não é um valor válido\")\n",
    "    bilhao = int(inteiro[0:3])\n",
    "    milhao = int(inteiro[3:6])\n",
    "    milhar = int(inteiro[6:9])\n",
    "    cento  = int(inteiro[9:])\n",
    "    formatado = []\n",
    "    if bilhao > 0:\n",
    "        formatado.append(str(bilhao))\n",
    "        formatado.append(str(milhao).rjust(3,'0'))\n",
    "        formatado.append(str(milhar).rjust(3,'0'))\n",
    "        formatado.append(str(cento).rjust(3,'0'))\n",
    "    elif milhao > 0:\n",
    "        formatado.append(str(milhao))\n",
    "        formatado.append(str(milhar).rjust(3,'0'))\n",
    "        formatado.append(str(cento).rjust(3,'0'))\n",
    "    elif milhar > 0:\n",
    "        formatado.append(str(milhar))\n",
    "        formatado.append(str(cento).rjust(3,'0'))\n",
    "    else:\n",
    "        formatado.append(str(cento))\n",
    "    formatado = \".\".join(formatado)\n",
    "    if decimal > 0:\n",
    "        formatado += \",\" + str(decimal).ljust(2,'0')\n",
    "    else:\n",
    "        formatado += \",00\"\n",
    "    return formatado"
   ]
  },
  {
   "cell_type": "code",
   "execution_count": null,
   "id": "1008c47c-16f2-44b9-b16a-e39f683bb190",
   "metadata": {},
   "outputs": [],
   "source": [
    "try:\n",
    "    print(valorFormatado(1))\n",
    "    print(valorFormatado(123456789.18))\n",
    "    print(valorFormatado(12345678910.123))\n",
    "    "
   ]
  }
 ],
 "metadata": {
  "kernelspec": {
   "display_name": "Python 3 (ipykernel)",
   "language": "python",
   "name": "python3"
  },
  "language_info": {
   "codemirror_mode": {
    "name": "ipython",
    "version": 3
   },
   "file_extension": ".py",
   "mimetype": "text/x-python",
   "name": "python",
   "nbconvert_exporter": "python",
   "pygments_lexer": "ipython3",
   "version": "3.11.7"
  }
 },
 "nbformat": 4,
 "nbformat_minor": 5
}
