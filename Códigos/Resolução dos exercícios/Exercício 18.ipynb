{
 "cells": [
  {
   "attachments": {},
   "cell_type": "markdown",
   "id": "f9055a65-051f-4699-859c-bc650d6044de",
   "metadata": {},
   "source": [
    "A CEF concederá um crédito especial com juros de 1% aos seus clientes de acordo com o saldo médio no último ano. Fazer um programa que receba via teclado o saldo médio de um cliente e calcule o valor do crédito de acordo com a tabela ao lado. Escreva na tela valor de crédito disponível.\n",
    "\n",
    "| Saldo Médio               | Percentual |\n",
    "|---------------------------|------------|\n",
    "| Até 500.00                | 0%         |\n",
    "| De 500.01 até 1000.00     | 30%        |\n",
    "| De 1000.01 até 3000.00    | 40%        |\n",
    "| Acima de 3000.00          | 50%        |\n"
   ]
  },
  {
   "cell_type": "code",
   "execution_count": null,
   "id": "b0a296e7-f913-4af5-9609-386bb5e3b593",
   "metadata": {},
   "outputs": [],
   "source": [
    "# Recebendo as entradas do problema\n",
    "saldomedio = float(input('Informe o Saldo Médio R$'))\n",
    "\n",
    "# Fazendo o processamento\n",
    "if saldomedio <= 500:\n",
    "    credito = 0\n",
    "elif saldomedio <= 1000:\n",
    "    credito = saldomedio * .3\n",
    "elif saldomedio <= 3000:\n",
    "    credito = saldomedio * .4\n",
    "    \n",
    "\n",
    "#Apresentando as saídas\n",
    "print(f'A reda do casal R${rc:.2f} foi aplicada uma alíquota de {aliquota:.2%} obtendo R${ir:.2f} de IR  gerando um líquido de R${rl:.2f}')"
   ]
  }
 ],
 "metadata": {
  "kernelspec": {
   "display_name": "Python 3 (ipykernel)",
   "language": "python",
   "name": "python3"
  },
  "language_info": {
   "codemirror_mode": {
    "name": "ipython",
    "version": 3
   },
   "file_extension": ".py",
   "mimetype": "text/x-python",
   "name": "python",
   "nbconvert_exporter": "python",
   "pygments_lexer": "ipython3",
   "version": "3.11.7"
  }
 },
 "nbformat": 4,
 "nbformat_minor": 5
}
