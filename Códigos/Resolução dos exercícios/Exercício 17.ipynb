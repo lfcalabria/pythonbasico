{
 "cells": [
  {
   "cell_type": "markdown",
   "id": "5ece7fa9-f60a-4294-b050-1d63e2dcb297",
   "metadata": {},
   "source": [
    "Elabore um programa que permita calcular o **Imposto de Renda (IR)** de um casal a partir das rendas do homem (**RH**) \n",
    "e da mulher (**RM**). O imposto é calculado sobre a **renda conjunta (RC)**, sendo: RC = RH + RM`. A alíquota do IR varia \n",
    "de acordo com a renda conjunta, conforme a tabela abaixo:\n",
    "\n",
    "| Renda Conjunta            | % - IR |\n",
    "|---------------------------|--------|\n",
    "| Até 900.00                | 0%     |\n",
    "| De 900.01 até 1500.00     | 10%    |\n",
    "| De 1500.01 até 2500.00    | 15%    |\n",
    "| Acima de 2500.00          | 25%    |\n",
    "\n",
    "O programa deve exibir:\n",
    "\n",
    "- A **renda conjunta (RC)**\n",
    "- A **percentual do imposto aplicado**\n",
    "- O **valor do imposto de renda (IR)**\n",
    "- A **renda líquida (RC - IR)**"
   ]
  },
  {
   "cell_type": "code",
   "execution_count": 3,
   "id": "2630c1e6-557c-440f-8c43-39ad945ef2cd",
   "metadata": {},
   "outputs": [
    {
     "name": "stdin",
     "output_type": "stream",
     "text": [
      "Informe a renda do 1º cônjuge R$ 2000\n",
      "Informe a renda do 2º cônjuge R$ 1500\n"
     ]
    },
    {
     "name": "stdout",
     "output_type": "stream",
     "text": [
      "A reda do casal R$3500.00 foi aplicada uma alíquota de 25.00% obtendo R$875.00 de IR  gerando um líquido de R$2625.00\n"
     ]
    }
   ],
   "source": [
    "# Recebendo as entradas do problema\n",
    "rc1 = float(input('Informe a renda do 1º cônjuge R$'))\n",
    "rc2 = float(input('Informe a renda do 2º cônjuge R$'))\n",
    "\n",
    "# Fazendo o processamento\n",
    "rc = rc1+rc2\n",
    "if rc < 900:\n",
    "    aliquota = 0\n",
    "elif rc <= 1500:\n",
    "    aliquota = .1\n",
    "elif rc <= 2500:\n",
    "    aliquota = .15\n",
    "else:\n",
    "    aliquota = .25\n",
    "ir = rc * aliquota\n",
    "rl = rc -ir\n",
    "\n",
    "#Apresentando as saídas\n",
    "print(f'A reda do casal R${rc:.2f} foi aplicada uma alíquota de {aliquota:.2%} obtendo R${ir:.2f} de IR  gerando um líquido de R${rl:.2f}')"
   ]
  },
  {
   "cell_type": "code",
   "execution_count": null,
   "id": "6f6c2699-df95-40ca-a209-c8338393fd5e",
   "metadata": {},
   "outputs": [],
   "source": []
  }
 ],
 "metadata": {
  "kernelspec": {
   "display_name": "Python 3 (ipykernel)",
   "language": "python",
   "name": "python3"
  },
  "language_info": {
   "codemirror_mode": {
    "name": "ipython",
    "version": 3
   },
   "file_extension": ".py",
   "mimetype": "text/x-python",
   "name": "python",
   "nbconvert_exporter": "python",
   "pygments_lexer": "ipython3",
   "version": "3.11.7"
  }
 },
 "nbformat": 4,
 "nbformat_minor": 5
}
