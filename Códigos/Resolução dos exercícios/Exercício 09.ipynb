{
 "cells": [
  {
   "cell_type": "markdown",
   "id": "cbc1f5a8-916c-401c-8263-264525220418",
   "metadata": {},
   "source": [
    "Sabe-se que o quilowatt de energia custa um milésimo do salário mínimo.\n",
    "\n",
    "Elabore um programa que receba via teclado:\n",
    "\n",
    "- O valor do **salário mínimo**;\n",
    "- A quantidade de **quilowatts consumidos** por uma residência.\n",
    "\n",
    "Calcule e exiba:\n",
    "\n",
    "- 💡 O valor em reais de **cada quilowatt**;\n",
    "- 💰 O valor da **conta de energia**, em reais, a ser paga pela residência;\n",
    "- 🏷️ O valor da **conta com desconto de 15%"
   ]
  },
  {
   "cell_type": "markdown",
   "id": "2461157f-ced1-4243-9e23-c3e309ef9505",
   "metadata": {},
   "source": [
    "# Recebendo as entradas do problema\n",
    "salario_minimo = float(input('Informe o valor do salário mínimo R$'))\n",
    "consumo = float(input('Informe quantidade consumida de kw: '))\n",
    "\n",
    "\n",
    "# Fazendo o processamento\n",
    "valorkw = salario_minimo / 1000\n",
    "conta = consumo * valorkw\n",
    "conta_com_descointo = conta * (1 - 0.15)\n",
    "\n",
    "#Apresentando as saídas\n",
    "print(f'O valor de cada quilowatt R${valorkw:.2f}')\n",
    "print(f' O valor da conta de energia R${conta:.2f}')\n",
    "print(f' O valor da conta de energia com desconto R${conta_com_descointo:.2f}')"
   ]
  },
  {
   "cell_type": "code",
   "execution_count": null,
   "id": "3ba75162-1003-43f3-957c-cfb8f7d059fe",
   "metadata": {},
   "outputs": [],
   "source": []
  }
 ],
 "metadata": {
  "kernelspec": {
   "display_name": "Python 3 (ipykernel)",
   "language": "python",
   "name": "python3"
  },
  "language_info": {
   "codemirror_mode": {
    "name": "ipython",
    "version": 3
   },
   "file_extension": ".py",
   "mimetype": "text/x-python",
   "name": "python",
   "nbconvert_exporter": "python",
   "pygments_lexer": "ipython3",
   "version": "3.11.7"
  }
 },
 "nbformat": 4,
 "nbformat_minor": 5
}
