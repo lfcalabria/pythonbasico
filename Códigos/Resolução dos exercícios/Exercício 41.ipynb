{
 "cells": [
  {
   "cell_type": "markdown",
   "id": "0c336f97-abfa-4c64-9d7f-62250dfa6158",
   "metadata": {},
   "source": [
    "Crie uma função que receba como parâmetro um número inteiros e retorne se ele é número primo"
   ]
  },
  {
   "cell_type": "code",
   "execution_count": 1,
   "id": "4689e52e-7722-4351-a56c-2d3e4c99a21f",
   "metadata": {},
   "outputs": [],
   "source": [
    "def divisores(n):\n",
    "    return [i for i in range(1, n + 1) if n % i == 0]"
   ]
  },
  {
   "cell_type": "code",
   "execution_count": 5,
   "id": "2b8e2b70-bdb6-4355-b307-5104428a7478",
   "metadata": {},
   "outputs": [],
   "source": [
    "def eh_primo(numero):\n",
    "    if not isinstance(numero, (int)):\n",
    "        raise TypeError(\"Tipo de dado incorreto.\")\n",
    "    if numero < 1:\n",
    "         raise ValueError('Não é um número inteiro positivo')\n",
    "    divisor = divisores(numero)\n",
    "    if len(divisor) > 2:\n",
    "        return False\n",
    "    else:\n",
    "        return True"
   ]
  },
  {
   "cell_type": "code",
   "execution_count": null,
   "id": "3a5808b4-34d2-43a4-b922-8eba8a10da57",
   "metadata": {},
   "outputs": [],
   "source": [
    "lista = [767,91,1377,5439,25,5.7]\n",
    "for n in lista:\n",
    "    \n",
    "except Exception as e:\n",
    "    print(e)"
   ]
  }
 ],
 "metadata": {
  "kernelspec": {
   "display_name": "Python 3 (ipykernel)",
   "language": "python",
   "name": "python3"
  },
  "language_info": {
   "codemirror_mode": {
    "name": "ipython",
    "version": 3
   },
   "file_extension": ".py",
   "mimetype": "text/x-python",
   "name": "python",
   "nbconvert_exporter": "python",
   "pygments_lexer": "ipython3",
   "version": "3.11.7"
  }
 },
 "nbformat": 4,
 "nbformat_minor": 5
}
