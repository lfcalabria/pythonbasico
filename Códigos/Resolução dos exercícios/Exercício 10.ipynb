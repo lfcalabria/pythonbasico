{
 "cells": [
  {
   "attachments": {},
   "cell_type": "markdown",
   "id": "7436c610-866d-4dd3-be53-e44898a220a7",
   "metadata": {},
   "source": [
    "A empresa Show Life apresenta show ao vivo em qualquer local que for solicitado. Cada show é cobrado por hora de apresentação mais um valor cobrado do deslocamento conforme a distância (R$ 50,00 por quilometro). A Show Life paga ao veículo, que faz o transporte dos equipamentos e de pessoal, um frete de 35% sobre o valor cobrado pela distância. Elabore um programa para receber a distância, o valor da hora da banda  e a duração em horas do show e  calcular e mostrar o valor do show e o valor do frete a ser paga ao transportador;"
   ]
  },
  {
   "cell_type": "code",
   "execution_count": null,
   "id": "0cfa43f5-8b25-4083-9739-2a1acfa99437",
   "metadata": {},
   "outputs": [],
   "source": [
    "# Recebendo as entradas do problema\n",
    "distancia = int(input('Informe a distância do deslocamento: '))\n",
    "valor_hora = float(input('Informe o valor hora da banda R$ '))\n",
    "duracao = int(input('Informe a duração do show: '))\n",
    "\n",
    "# Fazendo o processamento\n",
    "valorshow = valor_hora * duracao + distancia * 50\n",
    "valorfrete = distancia * 50 * .35\n",
    "\n",
    "#Apresentando as saídas\n",
    "print(f'O valor do show R${va:.2f}')\n",
    "print(f' O valor da conta de energia R${conta:.2f}')\n",
    "print(f' O valor da conta de energia com desconto R${conta_com_descointo:.2f}')"
   ]
  }
 ],
 "metadata": {
  "kernelspec": {
   "display_name": "Python 3 (ipykernel)",
   "language": "python",
   "name": "python3"
  },
  "language_info": {
   "codemirror_mode": {
    "name": "ipython",
    "version": 3
   },
   "file_extension": ".py",
   "mimetype": "text/x-python",
   "name": "python",
   "nbconvert_exporter": "python",
   "pygments_lexer": "ipython3",
   "version": "3.11.7"
  }
 },
 "nbformat": 4,
 "nbformat_minor": 5
}
