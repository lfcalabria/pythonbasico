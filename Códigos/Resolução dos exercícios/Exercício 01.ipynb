{
 "cells": [
  {
   "attachments": {},
   "cell_type": "markdown",
   "id": "2bd35ad9-7eee-44d8-b869-f8db70bb62d8",
   "metadata": {},
   "source": [
    "Faça um programa para calcular e exibir o salário líquido de um determinado funcionário. Sabe-se que será informado por intermédio do teclado o salário base, as vantagens e os descontos. O salário líquido é obtido somando-se as vantagens ao salário base e abatendo-se os descontos."
   ]
  },
  {
   "cell_type": "code",
   "execution_count": 1,
   "id": "a8fd46f0-9d2a-4b56-84ad-b1cacc5436ac",
   "metadata": {},
   "outputs": [
    {
     "name": "stdin",
     "output_type": "stream",
     "text": [
      "Informe o salário base R$ 2225.78\n",
      "Informe o total de vantagens R$ 436.98\n",
      "Informe o total de descontos R$ 184.23\n"
     ]
    },
    {
     "name": "stdout",
     "output_type": "stream",
     "text": [
      "O salário líquido devido R$2478.53\n"
     ]
    }
   ],
   "source": [
    "# Recebendo as entradas do problema\n",
    "salario_base = float(input('Informe o salário base R$'))\n",
    "vantagens = float(input('Informe o total de vantagens R$'))\n",
    "descontos = float(input('Informe o total de descontos R$'))\n",
    "\n",
    "# Fazendo o processamento\n",
    "salario_liquido = salario_base + vantagens - descontos\n",
    "\n",
    "#Apresentando as saídas\n",
    "print(f'O salário líquido devido R${salario_liquido:.2f}')"
   ]
  },
  {
   "cell_type": "code",
   "execution_count": null,
   "id": "baf14f83-8675-4b5f-89b8-f681cf86c481",
   "metadata": {},
   "outputs": [],
   "source": []
  }
 ],
 "metadata": {
  "kernelspec": {
   "display_name": "Python 3 (ipykernel)",
   "language": "python",
   "name": "python3"
  },
  "language_info": {
   "codemirror_mode": {
    "name": "ipython",
    "version": 3
   },
   "file_extension": ".py",
   "mimetype": "text/x-python",
   "name": "python",
   "nbconvert_exporter": "python",
   "pygments_lexer": "ipython3",
   "version": "3.11.7"
  }
 },
 "nbformat": 4,
 "nbformat_minor": 5
}
