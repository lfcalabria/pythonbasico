{
 "cells": [
  {
   "attachments": {},
   "cell_type": "markdown",
   "id": "727c71a9-34ba-4d13-a1af-ef35a787f9d2",
   "metadata": {},
   "source": [
    "Elabore um programa  que permita receber um número inteiro via teclado e  exibir no vídeo a soma dos números contidos  de 1 até o numero recebido. \r\n",
    "Ex.: Se for recebido o número 5, exibir== 15  (1+2+3+4+)5"
   ]
  },
  {
   "cell_type": "code",
   "execution_count": 3,
   "id": "f35bd41f-02d2-4aa2-b4f2-a80a8b4190a9",
   "metadata": {},
   "outputs": [
    {
     "name": "stdin",
     "output_type": "stream",
     "text": [
      "Informe o número:  5\n"
     ]
    },
    {
     "name": "stdout",
     "output_type": "stream",
     "text": [
      "A Soma ==> 15\n"
     ]
    }
   ],
   "source": [
    "# Recebendo as entradas do problema\n",
    "numero = int(input('Informe o número: '))\n",
    "\n",
    "# Processamento \n",
    "soma = 0\n",
    "for i in range(1,numero+1):\n",
    "    soma += i\n",
    "\n",
    "# Apresentando as saídas\n",
    "print(f'A Soma ==> {soma}')"
   ]
  },
  {
   "cell_type": "code",
   "execution_count": null,
   "id": "61d1138f-7bad-4b4e-acdd-fabcc7a75578",
   "metadata": {},
   "outputs": [],
   "source": []
  }
 ],
 "metadata": {
  "kernelspec": {
   "display_name": "Python 3 (ipykernel)",
   "language": "python",
   "name": "python3"
  },
  "language_info": {
   "codemirror_mode": {
    "name": "ipython",
    "version": 3
   },
   "file_extension": ".py",
   "mimetype": "text/x-python",
   "name": "python",
   "nbconvert_exporter": "python",
   "pygments_lexer": "ipython3",
   "version": "3.11.7"
  }
 },
 "nbformat": 4,
 "nbformat_minor": 5
}
