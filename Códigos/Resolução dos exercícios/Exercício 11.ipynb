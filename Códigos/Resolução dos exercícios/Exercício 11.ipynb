{
 "cells": [
  {
   "attachments": {},
   "cell_type": "markdown",
   "id": "80a50831-b4d6-41a2-841c-81544685ed88",
   "metadata": {},
   "source": [
    "Faça um programa que receba via teclado o tempo de duração de um evento em uma fábrica expressa em segundos e mostre-o expresso em horas, minutos e segundos."
   ]
  },
  {
   "cell_type": "code",
   "execution_count": 4,
   "id": "bddb2329-4bc7-466c-8e89-76a5a56fd458",
   "metadata": {},
   "outputs": [
    {
     "name": "stdin",
     "output_type": "stream",
     "text": [
      "Informe o tempo em segundos:  56789\n"
     ]
    },
    {
     "name": "stdout",
     "output_type": "stream",
     "text": [
      "56789s equivalem a 15:46:29\n"
     ]
    }
   ],
   "source": [
    "# Recebendo as entradas do problema\n",
    "tempo_em_segundos = int(input('Informe o tempo em segundos: '))\n",
    "\n",
    "# Fazendo o processamento\n",
    "horas = str(tempo_em_segundos // 3600).rjust(2,'0')\n",
    "minutos = str(tempo_em_segundos % 3600 // 60).rjust(2,'0')\n",
    "segundos = str(tempo_em_segundos % 3600 % 60).rjust(2,'0')\n",
    "\n",
    "#Apresentando as saídas\n",
    "print(f'{tempo_em_segundos}s equivalem a {horas}:{minutos}:{segundos}')"
   ]
  },
  {
   "cell_type": "code",
   "execution_count": null,
   "id": "68d25667-9590-4482-8e89-fad9fb918aa3",
   "metadata": {},
   "outputs": [],
   "source": []
  }
 ],
 "metadata": {
  "kernelspec": {
   "display_name": "Python 3 (ipykernel)",
   "language": "python",
   "name": "python3"
  },
  "language_info": {
   "codemirror_mode": {
    "name": "ipython",
    "version": 3
   },
   "file_extension": ".py",
   "mimetype": "text/x-python",
   "name": "python",
   "nbconvert_exporter": "python",
   "pygments_lexer": "ipython3",
   "version": "3.11.7"
  }
 },
 "nbformat": 4,
 "nbformat_minor": 5
}
