{
 "cells": [
  {
   "cell_type": "markdown",
   "id": "fb2b01c2-d072-4055-9fec-f53ae4cfc698",
   "metadata": {},
   "source": [
    "Uma certa firma fez uma pesquisa de mercado para saber se as pessoas gostaram ou não de um novo produto lançado no mercado. Para isso, forneceu o sexo(“M” ou “F”) do entrevistado e sua resposta “sim” ou “não”). Sabendo-se que o último registro a ser lido contém o valor do sexo igual a “FIM”  calcule e escreva:  \n",
    "a) o número de pessoas que responderam sim;  \n",
    "b) o número de pessoas que responderam não;  \n",
    "c) a porcentagem de pessoas do sexo feminino que responderam sim em relação ao total de mulheres;  \n",
    "d)a porcentagem de pessoas do sexo masculino que responderam não  em relação ao total de respostas;  "
   ]
  },
  {
   "cell_type": "code",
   "execution_count": null,
   "id": "929e1c4f-96d9-4c3f-bf26-cb5e248d6ad4",
   "metadata": {},
   "outputs": [
    {
     "name": "stdin",
     "output_type": "stream",
     "text": [
      "Informe o sexo:  m\n",
      "Informe a resposta:  s\n",
      "Informe o sexo:  f\n",
      "Informe a resposta:  s\n",
      "Informe o sexo:  m\n",
      "Informe a resposta:  n\n",
      "Informe o sexo:  m\n",
      "Informe a resposta:  s\n",
      "Informe o sexo:  f\n",
      "Informe a resposta:  n\n",
      "Informe o sexo:  m\n",
      "Informe a resposta:  s\n"
     ]
    }
   ],
   "source": [
    "# Preparação\n",
    "contasim = 0\n",
    "contanao = 0\n",
    "contasimf = 0\n",
    "contaf = 0\n",
    "contanaom = 0\n",
    "\n",
    "# Recebendo as entradas e processando\n",
    "while True:\n",
    "    sexo = input('Informe o sexo: ').upper()\n",
    "    if sexo == 'FIM': break\n",
    "    resposta = input('Informe a resposta: ').upper()[0]\n",
    "    if resposta == 'S':\n",
    "        contasim += 1\n",
    "        if sexo == 'F':\n",
    "            contaf += 1\n",
    "            contasimf += 1\n",
    "    else:\n",
    "        contanao += 1\n",
    "        if sexo == 'M':\n",
    "            contanaom += 1\n",
    "        else:\n",
    "            contaf += 1\n",
    "        \n",
    "# Apresentando as saídas\n",
    "print(f'O número de SIM foi {contasim} e o número de NÃO foi {contanao}')\n",
    "print(f'A porcentagem de pessoas do sexo feminino que responderam sim em relação ao total de mulheres foi {contasimf/contaf:.2%}')\n",
    "print(f'A porcentagem de pessoas do sexo masculino que responderam não em relação ao total de respostas foi {contanaom/(contanao+contasim):.2%}')"
   ]
  },
  {
   "cell_type": "code",
   "execution_count": null,
   "id": "2e6a5bb0-715a-4070-94aa-20bdaaa9fcb4",
   "metadata": {},
   "outputs": [],
   "source": []
  }
 ],
 "metadata": {
  "kernelspec": {
   "display_name": "Python 3 (ipykernel)",
   "language": "python",
   "name": "python3"
  },
  "language_info": {
   "codemirror_mode": {
    "name": "ipython",
    "version": 3
   },
   "file_extension": ".py",
   "mimetype": "text/x-python",
   "name": "python",
   "nbconvert_exporter": "python",
   "pygments_lexer": "ipython3",
   "version": "3.11.7"
  }
 },
 "nbformat": 4,
 "nbformat_minor": 5
}
