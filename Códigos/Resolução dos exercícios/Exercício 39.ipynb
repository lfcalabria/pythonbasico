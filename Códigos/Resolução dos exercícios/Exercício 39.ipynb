{
 "cells": [
  {
   "cell_type": "markdown",
   "id": "fa1738fd-67ea-4fb7-bda9-b9146e7bb497",
   "metadata": {},
   "source": [
    "Crie uma função que receba como parâmetro um número inteiros e retorne seus divisores"
   ]
  },
  {
   "cell_type": "code",
   "execution_count": 6,
   "id": "3574ee75-1fd7-45c5-b193-6ced6a0e4849",
   "metadata": {},
   "outputs": [],
   "source": [
    "def divisores(n):\n",
    "    try:\n",
    "        n = int(n)\n",
    "    except Exception:\n",
    "        raise ValueError(\"Não é um inteiro positgivo\")\n",
    "    if n < 1:\n",
    "        raise ValueError(\"Não é um inteiro positivo\")\n",
    "    div =  [i for i in range(1, n + 1) if n % i == 0]\n",
    "    return div"
   ]
  },
  {
   "cell_type": "code",
   "execution_count": 7,
   "id": "4dc09016-026b-4874-a6b3-964f87511b09",
   "metadata": {},
   "outputs": [
    {
     "name": "stdout",
     "output_type": "stream",
     "text": [
      "Não é um inteiro positivo\n"
     ]
    }
   ],
   "source": [
    "try:\n",
    "    print(divisores(-50))\n",
    "except Exception as e:\n",
    "    print(e)"
   ]
  },
  {
   "cell_type": "code",
   "execution_count": null,
   "id": "87df85fa-77de-4571-a7fe-5a5f86883fb1",
   "metadata": {},
   "outputs": [],
   "source": []
  }
 ],
 "metadata": {
  "kernelspec": {
   "display_name": "Python 3 (ipykernel)",
   "language": "python",
   "name": "python3"
  },
  "language_info": {
   "codemirror_mode": {
    "name": "ipython",
    "version": 3
   },
   "file_extension": ".py",
   "mimetype": "text/x-python",
   "name": "python",
   "nbconvert_exporter": "python",
   "pygments_lexer": "ipython3",
   "version": "3.11.7"
  }
 },
 "nbformat": 4,
 "nbformat_minor": 5
}
