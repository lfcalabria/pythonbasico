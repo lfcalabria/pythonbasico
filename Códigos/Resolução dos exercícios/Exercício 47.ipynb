{
 "cells": [
  {
   "cell_type": "markdown",
   "id": "c1583210-20f6-4900-91bb-67f171103839",
   "metadata": {},
   "source": [
    "Classe FolhaPagamento  \n",
    "Atributos: matrícula, salário, vlor de horas extras, valor de gratificações, valor de outras vantagens e valor de descontos  \n",
    "\n",
    "Mestodo publico:  \n",
    "mostrarLiquido: Bruto – Total de descontos  \n",
    "  \n",
    "Métodos internos:  \n",
    "descontos: soma de todos os descontos  \n",
    "calcularINS: utilizar tabela do INSS  \n",
    "calcularIR: utilizar tabela do IR  "
   ]
  },
  {
   "cell_type": "code",
   "execution_count": 22,
   "id": "c1133801-3ae6-4bc2-939e-2c14803c966f",
   "metadata": {},
   "outputs": [],
   "source": [
    "class FolhaPagamento():\n",
    "    def __init__(self, matr,salario,ext=0,grat=0,ov=0,desc=0):\n",
    "        try:\n",
    "            self.__matr = int(matr)\n",
    "        except Exception:\n",
    "            raise ValueError('Matrícula inválida')\n",
    "        try:\n",
    "            self.__salario = float(salario)\n",
    "            self.__ext = float(ext)\n",
    "            self.__grat = float(grat)\n",
    "            self.__ov = float(ov)\n",
    "            self.__desc = float(desc)\n",
    "        except Exception:\n",
    "            raise ValueError(\"Pelo menos um dos valores está inválido\")\n",
    "        if salario <= 0 or ext < 0 or grat < 0 or ov < 0 or desc < 0:\n",
    "            raise ValueError(\"Pelo menos um dos valores está inválido\")\n",
    "        self.__bruto = salario + ext + grat + ov\n",
    "    def __ir(self):\n",
    "        base = self.__bruto - 564.80\n",
    "        if base <= 2259.20:\n",
    "            return 0\n",
    "        if base <= 2826.65:\n",
    "            return (base - 2259.20) * 0.075\n",
    "        if base <= 3751.05:\n",
    "            return 567.45 * 0.075 + (base - 2826.65) * 0.25\n",
    "        if base <= 4664.68:\n",
    "            return 567.45 * 0.075 + 924.40 * 0.15 + (base - 3751.05) * 0.225\n",
    "        return 567.45 * 0.075 + 924.40 * 0.15 + 913.63 * 0.225 + (base - 4664.68) * 0.275\n",
    "    def __inss(self):\n",
    "        base = self.__bruto\n",
    "        if base <= 1518:\n",
    "            return base * 0.75\n",
    "        if base <= 2793.88:\n",
    "            return 1518 * 0.75 + (base - 1518) * 0.9\n",
    "        if base <= 4190.83:\n",
    "            return 1518 * 0.75 *.975 + 1275.89 * 0.9 + (base - 2793.88) * 0.12\n",
    "        if base <= 8157.41:\n",
    "            return 1518 * 0.75 *.975 + 1275.89 * 0.9 + 1396.69 * 0.12 + (base - 4190.83) * 0.14\n",
    "        return 1518 * 0.75 *.975 + 1275.89 * 0.9 + 1396.69 * 0.12 + 3966.59 * 0.14  \n",
    "    def __desconto(self):\n",
    "        return self.__desc + self.__ir() + self.__inss()\n",
    "    def liquido(self):\n",
    "        return self.__bruto - self.__desconto()\n",
    "    def __str__(self):\n",
    "        return f'O funcionário de matr. {self.__matr} receberá R${self.liquido():.2f}'\n",
    "        "
   ]
  },
  {
   "cell_type": "code",
   "execution_count": 24,
   "id": "87f5d08d-cdf5-47b5-bdf1-c2ac390ffc50",
   "metadata": {},
   "outputs": [
    {
     "name": "stdin",
     "output_type": "stream",
     "text": [
      "Informe a matrícula 44546\n",
      "Informe o salário R$ 5000\n",
      "Informe o valor das horas extras R$ 134\n",
      "Informe das gratificações R$ 0\n",
      "Informe o valor de outras vantagens R$ 0\n",
      "Informe o valor dos descontos R$ 2345\n"
     ]
    },
    {
     "name": "stdout",
     "output_type": "stream",
     "text": [
      "O funcionário de matr. 44546 receberá R$-134.29\n"
     ]
    },
    {
     "name": "stdin",
     "output_type": "stream",
     "text": [
      "Informe a matrícula 7\n",
      "Informe o salário R$ 756743\n",
      "Informe o valor das horas extras R$ 0\n",
      "Informe das gratificações R$ 0\n",
      "Informe o valor de outras vantagens R$ 0\n",
      "Informe o valor dos descontos R$ 0\n"
     ]
    },
    {
     "name": "stdout",
     "output_type": "stream",
     "text": [
      "O funcionário de matr. 7 receberá R$546708.73\n"
     ]
    },
    {
     "name": "stdin",
     "output_type": "stream",
     "text": [
      "Informe a matrícula \n"
     ]
    }
   ],
   "source": [
    "while True:\n",
    "    try:\n",
    "        matr = input('Informe a matrícula')\n",
    "        if matr == '': break\n",
    "        sal = float(input('Informe o salário R$'))\n",
    "        ext = float(input('Informe o valor das horas extras R$'))\n",
    "        grat = float(input('Informe das gratificações R$'))\n",
    "        ov = float(input('Informe o valor de outras vantagens R$'))\n",
    "        desc = float(input('Informe o valor dos descontos R$'))\n",
    "        p1 = FolhaPagamento(matr,sal,ext,grat,ov,desc)\n",
    "        print(p1)\n",
    "    except Exception as e:\n",
    "        print('Houve erro na digitação tente novamente')"
   ]
  },
  {
   "cell_type": "code",
   "execution_count": null,
   "id": "be1f8ba5-4a8c-4b11-b87a-2af5564e5c72",
   "metadata": {},
   "outputs": [],
   "source": []
  }
 ],
 "metadata": {
  "kernelspec": {
   "display_name": "Python 3 (ipykernel)",
   "language": "python",
   "name": "python3"
  },
  "language_info": {
   "codemirror_mode": {
    "name": "ipython",
    "version": 3
   },
   "file_extension": ".py",
   "mimetype": "text/x-python",
   "name": "python",
   "nbconvert_exporter": "python",
   "pygments_lexer": "ipython3",
   "version": "3.11.7"
  }
 },
 "nbformat": 4,
 "nbformat_minor": 5
}
