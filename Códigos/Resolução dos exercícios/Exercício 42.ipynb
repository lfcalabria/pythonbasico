{
 "cells": [
  {
   "cell_type": "markdown",
   "id": "81b997bd-5064-4ade-85bb-05f18070709b",
   "metadata": {},
   "source": [
    "Classe Quadrado: Crie uma classe que modele um quadrado:  \n",
    "Atributos: Tamanho do lado  \n",
    "Métodos: calcular Área  \n",
    "        calcular Perímetro  \n"
   ]
  },
  {
   "cell_type": "code",
   "execution_count": 1,
   "id": "8d2a6bcb-a0c6-40f7-8110-e7a1376da191",
   "metadata": {},
   "outputs": [],
   "source": [
    "class Quadrado():\n",
    "    def __init__(self,lado):\n",
    "        try:\n",
    "            self.__lado = int(lado)\n",
    "        except:\n",
    "            raise TypeError('Não foi informado um número inteiro')\n",
    "        if lado < 1:\n",
    "            raise ValueError(\"O valor está inválido\")\n",
    "    def calcularArea(self):\n",
    "        return self.__lado ** 2\n",
    "    def calcularPerimetro(self):\n",
    "        return self.__lado * 4\n",
    "    def getLado(self):\n",
    "        return self.__lado\n",
    "    def setLado(self,lado):\n",
    "        self.__lado = lado"
   ]
  },
  {
   "cell_type": "code",
   "execution_count": 2,
   "id": "03db72a6-3a9f-400d-95da-05314ebe4946",
   "metadata": {},
   "outputs": [
    {
     "name": "stdout",
     "output_type": "stream",
     "text": [
      "Não foi informado um número inteiro\n",
      "O valor está inválido\n"
     ]
    }
   ],
   "source": [
    "try:\n",
    "    q1 = Quadrado(5)\n",
    "except Exception as e:\n",
    "    print(e)\n",
    "try:\n",
    "    q2 = Quadrado('a')\n",
    "except Exception as e:\n",
    "    print(e)\n",
    "try:\n",
    "    q3 = Quadrado(0)\n",
    "except Exception as e:\n",
    "    print(e)"
   ]
  },
  {
   "cell_type": "code",
   "execution_count": 4,
   "id": "fc230cad-9070-4059-9892-e63f884e9f3a",
   "metadata": {},
   "outputs": [
    {
     "name": "stdout",
     "output_type": "stream",
     "text": [
      "100\n",
      "40\n",
      "10\n",
      "None\n",
      "100\n",
      "40\n"
     ]
    }
   ],
   "source": [
    "print(q1.calcularArea())\n",
    "print(q1.calcularPerimetro())\n",
    "print(q1.getLado())\n",
    "print(q1.setLado(10))\n",
    "print(q1.calcularArea())\n",
    "print(q1.calcularPerimetro())"
   ]
  },
  {
   "cell_type": "code",
   "execution_count": null,
   "id": "41186da0-5f95-48a3-b004-0b1fce0801fa",
   "metadata": {},
   "outputs": [],
   "source": []
  }
 ],
 "metadata": {
  "kernelspec": {
   "display_name": "Python 3 (ipykernel)",
   "language": "python",
   "name": "python3"
  },
  "language_info": {
   "codemirror_mode": {
    "name": "ipython",
    "version": 3
   },
   "file_extension": ".py",
   "mimetype": "text/x-python",
   "name": "python",
   "nbconvert_exporter": "python",
   "pygments_lexer": "ipython3",
   "version": "3.11.7"
  }
 },
 "nbformat": 4,
 "nbformat_minor": 5
}
