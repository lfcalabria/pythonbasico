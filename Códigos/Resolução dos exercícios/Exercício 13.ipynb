{
 "cells": [
  {
   "attachments": {},
   "cell_type": "markdown",
   "id": "9a1ebeef-b995-46eb-854f-20232d736324",
   "metadata": {},
   "source": [
    "Receba um nome com, no mínimo,  10 caracteres via teclado. Com ele você deve gerar uma senha no seguinte formato: dividir o nome recebido no meio e concatenar os dois primeiros caracteres da segunda parte, com os caracteres “%%” e os três últimos caracteres da primeira parte. Exiba ao final a parte1, a parte 2 e a senha."
   ]
  },
  {
   "cell_type": "code",
   "execution_count": null,
   "id": "4c6f7272-4722-471f-a2eb-a6b24fa70c4f",
   "metadata": {},
   "outputs": [],
   "source": [
    "# Recebendo as entradas do problema\n",
    "nome = input('Informe um, nome: ')\n",
    "\n",
    "# Fazendo o processamento\n",
    "nome_sem_espaco = nome.replace(' ','')\n",
    "tamanho = len(nome_sem_espaco)\n",
    "parte1 = nome_sem_espaco[:tamanho//2]\n",
    "parte2 = nome_sem_espaco[tamanho//2:]\n",
    "senha = parte2[:2] + '%%' + parte1[-3:]\n",
    "\n",
    "#Apresentando as saídas\n",
    "print(f'Parte 1 ==> {parte1}, Parte 2 ==> {parte2} , Senha ==> {senha}')\n"
   ]
  }
 ],
 "metadata": {
  "kernelspec": {
   "display_name": "Python 3 (ipykernel)",
   "language": "python",
   "name": "python3"
  },
  "language_info": {
   "codemirror_mode": {
    "name": "ipython",
    "version": 3
   },
   "file_extension": ".py",
   "mimetype": "text/x-python",
   "name": "python",
   "nbconvert_exporter": "python",
   "pygments_lexer": "ipython3",
   "version": "3.11.7"
  }
 },
 "nbformat": 4,
 "nbformat_minor": 5
}
