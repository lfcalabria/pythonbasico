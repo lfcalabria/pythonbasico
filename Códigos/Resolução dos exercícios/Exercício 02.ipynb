{
 "cells": [
  {
   "attachments": {},
   "cell_type": "markdown",
   "id": "0e192ef2-2067-4bfc-8ec1-bf3c70849380",
   "metadata": {},
   "source": [
    "A energia da área comum e a água consumida pelos moradores do Edifício Prata Nobre é rateado entre os apartamentos. Escreva um programa que receba a quantidade de apartamentos, valor da conta de energia e valor da conta de água, calcule o rateio entre os apartamentos e mostre o valor total que cada apartamento deve pagar;"
   ]
  },
  {
   "cell_type": "code",
   "execution_count": null,
   "id": "87e49356-294e-4195-b3bd-08622bdbab6b",
   "metadata": {},
   "outputs": [],
   "source": [
    "# Recebendo as entradas do problema\n",
    "quantidade_apartamentos = int(input('Informe a quantidadede apartamentos: '))\n",
    "valor_energia = float(input('Informe o valor total da conta de energia R$'))\n",
    "valor_agua = float(input('Informe o valor total da conta de água R$'))\n",
    "\n",
    "# Fazendo o processamento\n",
    "rateio = (valor_energia + valor_agua) / quantidade_apartamentos\n",
    "\n",
    "#Apresentando as saídas\n",
    "print(f'O salário líquido devido R${salario_liquido:.2f}')"
   ]
  }
 ],
 "metadata": {
  "kernelspec": {
   "display_name": "Python 3 (ipykernel)",
   "language": "python",
   "name": "python3"
  },
  "language_info": {
   "codemirror_mode": {
    "name": "ipython",
    "version": 3
   },
   "file_extension": ".py",
   "mimetype": "text/x-python",
   "name": "python",
   "nbconvert_exporter": "python",
   "pygments_lexer": "ipython3",
   "version": "3.11.7"
  }
 },
 "nbformat": 4,
 "nbformat_minor": 5
}
