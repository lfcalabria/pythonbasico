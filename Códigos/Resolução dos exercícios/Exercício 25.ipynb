{
 "cells": [
  {
   "attachments": {},
   "cell_type": "markdown",
   "id": "2ed97d08-6fe3-45e3-986f-70b5cde2ff23",
   "metadata": {},
   "source": [
    "Um determinado material radioativo perde metade de sua massa a cada 50 segundos. Dada a massa inicial, em gramas, fazer um programa que determine o tempo necessário para que essa massa se torne menor do que 0,5g. Escreva ao final a massa inicial, a massa final e o tempo calculado em segundos"
   ]
  },
  {
   "cell_type": "code",
   "execution_count": 3,
   "id": "f9076d49-58ea-4c0a-a38f-fe40e8c67bb8",
   "metadata": {},
   "outputs": [
    {
     "name": "stdin",
     "output_type": "stream",
     "text": [
      "Informe  massa inicial:  255\n"
     ]
    },
    {
     "name": "stdout",
     "output_type": "stream",
     "text": [
      "A 255.0g chegara em 0.498046875g após 450s \n"
     ]
    }
   ],
   "source": [
    "# Recebendo as entradas\n",
    "mi = float(input('Informe  massa inicial: '))\n",
    "\n",
    "# Processamento\n",
    "t = 0\n",
    "mf = mi\n",
    "while mf >= 0.5:\n",
    "    t += 50\n",
    "    mf = mf /2\n",
    "        \n",
    "# Apresentando as saídas\n",
    "print(f'A {mi}g chegara em {mf:}g após {t}s ')"
   ]
  },
  {
   "cell_type": "code",
   "execution_count": null,
   "id": "4f4f4260-e4b8-491b-b419-132a00d732cc",
   "metadata": {},
   "outputs": [],
   "source": []
  }
 ],
 "metadata": {
  "kernelspec": {
   "display_name": "Python 3 (ipykernel)",
   "language": "python",
   "name": "python3"
  },
  "language_info": {
   "codemirror_mode": {
    "name": "ipython",
    "version": 3
   },
   "file_extension": ".py",
   "mimetype": "text/x-python",
   "name": "python",
   "nbconvert_exporter": "python",
   "pygments_lexer": "ipython3",
   "version": "3.11.7"
  }
 },
 "nbformat": 4,
 "nbformat_minor": 5
}
