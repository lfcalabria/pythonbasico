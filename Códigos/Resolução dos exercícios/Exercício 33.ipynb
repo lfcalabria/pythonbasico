{
 "cells": [
  {
   "cell_type": "markdown",
   "id": "8268efff-b81b-4fdd-ac15-5f4164dabea7",
   "metadata": {},
   "source": [
    "Tendo como dados de entrada a altura e o sexo de uma pessoa, construa um algoritmo que calcule seu peso ideal, utilizando as seguintes fórmulas:   \n",
    "para homens: (72.7 * h) – 58;   \n",
    "para mulheres: (62.1 * h) – 44.7.   \n"
   ]
  },
  {
   "cell_type": "code",
   "execution_count": 1,
   "id": "911af6eb-0d54-422b-b396-24bab38bc740",
   "metadata": {},
   "outputs": [
    {
     "name": "stdin",
     "output_type": "stream",
     "text": [
      "Informe a altura:  1.67\n",
      "Informe o sexo:  m\n"
     ]
    },
    {
     "name": "stdout",
     "output_type": "stream",
     "text": [
      "Seu peso ideal: 63.41\n"
     ]
    }
   ],
   "source": [
    "while True:\n",
    "    try:\n",
    "        altura = float(input('Informe a altura: '))\n",
    "        if altura < 0:\n",
    "            print('Digitação errada')\n",
    "            continue\n",
    "        break\n",
    "    except Exception:\n",
    "        print('Digitação errada')\n",
    "while True:\n",
    "    try:\n",
    "        sexo = input('Informe o sexo: ').upper()[0]\n",
    "        if sexo not in ['F','M']:\n",
    "            print('Sexo inválido')\n",
    "            continue\n",
    "        break\n",
    "    except IndexError:\n",
    "        print('Sexo inválido')\n",
    "if sexo == 'F':\n",
    "    print(f'Seu peso ideal: {(62.1 * altura) - 44.7:.2f}')\n",
    "else:\n",
    "    print(f'Seu peso ideal: {(72.7 * altura) - 58:.2f}')"
   ]
  },
  {
   "cell_type": "code",
   "execution_count": null,
   "id": "eb503435-0627-4fed-86ea-b33d53f45894",
   "metadata": {},
   "outputs": [],
   "source": []
  }
 ],
 "metadata": {
  "kernelspec": {
   "display_name": "Python 3 (ipykernel)",
   "language": "python",
   "name": "python3"
  },
  "language_info": {
   "codemirror_mode": {
    "name": "ipython",
    "version": 3
   },
   "file_extension": ".py",
   "mimetype": "text/x-python",
   "name": "python",
   "nbconvert_exporter": "python",
   "pygments_lexer": "ipython3",
   "version": "3.11.7"
  }
 },
 "nbformat": 4,
 "nbformat_minor": 5
}
