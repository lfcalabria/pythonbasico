{
 "cells": [
  {
   "cell_type": "markdown",
   "id": "34d20907-daf6-471f-8050-406d60e50e9a",
   "metadata": {},
   "source": [
    "Em um determinado concurso público são informados via teclado as quantidades de candidatos presentes do que são do sexo masculino e do sexo feminino, bem como o total dos ausentes. Pede-se calcular e exibir os percentuais solicitados abaixo:  \n",
    "P1 = O Percentual de Homens presentes em relação ao total de candidatos inscritos;  \n",
    "P2 = O Percentual dos Ausentes  em relação ao total dos presentes.\n"
   ]
  },
  {
   "cell_type": "code",
   "execution_count": null,
   "id": "e32c42d5-0fa1-412f-ada7-0fcc03163df0",
   "metadata": {},
   "outputs": [],
   "source": [
    "# Recebendo as entradas do problema\n",
    "qtd_masculino_presente = int(input('Informe quantidade de presentes do sexo masculino: '))\n",
    "qtd_feminino_presente = int(input('Informe quantidade de presentes do sexo feminino: '))\n",
    "qtd_ausentes = int(input('Informe quantidade de ausentes: '))\n",
    "\n",
    "# Fazendo o processamento\n",
    "p1 = qtd_masculino_presente / (qtd_ausentes + qtd_feminino_presente + qtd_masculino_presente)\n",
    "p2 = qtd_ausentes / (qtd_feminino_presente + qtd_masculino_presente)\n",
    "\n",
    "#Apresentando as saídas\n",
    "print(f'O Percentual de Homens presentes em relação ao total de candidatos inscritos: {p1:.2%}')\n",
    "print(f'O Percentual dos Ausentes em relação ao total dos presentes: {')"
   ]
  }
 ],
 "metadata": {
  "kernelspec": {
   "display_name": "Python 3 (ipykernel)",
   "language": "python",
   "name": "python3"
  },
  "language_info": {
   "codemirror_mode": {
    "name": "ipython",
    "version": 3
   },
   "file_extension": ".py",
   "mimetype": "text/x-python",
   "name": "python",
   "nbconvert_exporter": "python",
   "pygments_lexer": "ipython3",
   "version": "3.11.7"
  }
 },
 "nbformat": 4,
 "nbformat_minor": 5
}
