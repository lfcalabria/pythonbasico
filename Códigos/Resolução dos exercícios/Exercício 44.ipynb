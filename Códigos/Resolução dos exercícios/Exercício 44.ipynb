{
 "cells": [
  {
   "cell_type": "markdown",
   "id": "71637729-2fd8-4d0f-a9a2-8e861ed1fe8a",
   "metadata": {},
   "source": [
    "Classe Bomba de Combustível:     \n",
    "Atributos:   \n",
    "tipocombustivel. Valorlitro, capacidadedabomba  \n",
    "métodos:  \n",
    "abastecerPorValor – \n",
    "método onde é informado o valor a ser abastecido e retorna a quantidade de litros que foi colocada no veículo   \n",
    "abastecerPorLitro – \n",
    "método onde é informado a quantidade em litros de combustível e retorna o valor a ser pago pelo cliente.   \n",
    "OBS: Sempre que acontecer um abastecimento é necessário atualizar a quantidade de combustível disponíovel na bomba, não permitir um abastecimento se não houver quantidade suficiente de combustível\n"
   ]
  },
  {
   "cell_type": "code",
   "execution_count": 3,
   "id": "c2c4ae70-0100-48ef-8490-fc61e9da333b",
   "metadata": {},
   "outputs": [],
   "source": [
    "class BombaCombustivel():\n",
    "    def __init__(self,tipo,valorlitro,quantidadecombustivel):\n",
    "        if tipo not in ['Álcool','Álcool Aditivado','Gasolina','Gasolina Aditivada','Disel']:\n",
    "            raise ValueError(\"Tipo de combustível inválido\")\n",
    "        self.__tipo = tipo\n",
    "        try:\n",
    "            self.__valorlitro = float(valorlitro)\n",
    "        except Exception:\n",
    "            raise ValueError(\"Valor do litro inválido\")\n",
    "        try:\n",
    "            self.__nivelcomnbustivel = int(quantidadecombustivel)\n",
    "        except Exception:\n",
    "            raise ValueError(\"Capacidade da bomba inválida\")\n",
    "    def abastecePorValor(self,valor):\n",
    "        litros = valor / self.__valorlitro\n",
    "        if self.__nivelcomnbustivel >= litros:\n",
    "            self.__nivelcomnbustivel -= litros\n",
    "            return f'Foi abastecido com {litros:.2f}l'\n",
    "        else:\n",
    "            return f'Nesta bomba não tem capacidade para este abastecimento'\n",
    "    def abastecerPorLitro(self,litro):\n",
    "        valor = litro * self.__valorlitro\n",
    "        if self.__nivelcomnbustivel >= litro:\n",
    "            self.__nivelcomnbustivel -= litro\n",
    "            return f'Valor R${valor:.2f}'\n",
    "        else:\n",
    "            return f'Nesta bomba não tem capacidade para este abastecimento'\n",
    "    def __str__(self):\n",
    "        return f'Esta bomba tem disponível {self.__nivelcomnbustivel:.2f} de {self.__tipo}'"
   ]
  },
  {
   "cell_type": "code",
   "execution_count": 5,
   "id": "4244f946-d35f-4b70-ba60-0111e77fb68e",
   "metadata": {},
   "outputs": [
    {
     "name": "stdout",
     "output_type": "stream",
     "text": [
      "Esta bomba tem disponível 5000.00 de Álcool\n",
      "Foi abastecido com 31.91l\n",
      "Esta bomba tem disponível 4968.09 de Álcool\n",
      "Valor R$470.00\n",
      "Esta bomba tem disponível 4868.09 de Álcool\n"
     ]
    }
   ],
   "source": [
    "b1 = BombaCombustivel('Álcool',4.7,5000)\n",
    "print(b1)\n",
    "print(b1.abastecePorValor(150))\n",
    "print(b1)\n",
    "print(b1.abastecerPorLitro(100))\n",
    "print(b1)"
   ]
  },
  {
   "cell_type": "code",
   "execution_count": null,
   "id": "7d3d9a61-9701-4f39-a188-f8ed803f6315",
   "metadata": {},
   "outputs": [],
   "source": []
  }
 ],
 "metadata": {
  "kernelspec": {
   "display_name": "Python 3 (ipykernel)",
   "language": "python",
   "name": "python3"
  },
  "language_info": {
   "codemirror_mode": {
    "name": "ipython",
    "version": 3
   },
   "file_extension": ".py",
   "mimetype": "text/x-python",
   "name": "python",
   "nbconvert_exporter": "python",
   "pygments_lexer": "ipython3",
   "version": "3.11.7"
  }
 },
 "nbformat": 4,
 "nbformat_minor": 5
}
