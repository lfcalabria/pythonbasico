{
 "cells": [
  {
   "cell_type": "markdown",
   "id": "5a73d150-8d1f-484a-b6a9-18548ab6f1c3",
   "metadata": {},
   "source": [
    "Crie uma função que receba como parâmetro uma lista de números inteiros e retorne o máximo divisor comum deles\n"
   ]
  },
  {
   "cell_type": "code",
   "execution_count": 1,
   "id": "07d93312-7792-4925-bbed-30b3a57f527a",
   "metadata": {},
   "outputs": [],
   "source": [
    "def divisores(n):\n",
    "    return [i for i in range(1, n + 1) if n % i == 0]"
   ]
  },
  {
   "cell_type": "code",
   "execution_count": 2,
   "id": "661ee0e2-eb88-4deb-9a5c-34031b50f2ea",
   "metadata": {},
   "outputs": [],
   "source": [
    "def mdc(lista):\n",
    "    if not all(isinstance(item, int) for item in lista):\n",
    "        raise TypeError(\"Existe pelo menos um elemento que não é um inteiro.\")\n",
    "    if len(lista) == 0:\n",
    "        return None\n",
    "    divisor = set(divisores(lista[0]))\n",
    "    lista.pop(0)\n",
    "    while len(lista) > 0:\n",
    "        divisor = set(divisores(lista[0])) & divisor\n",
    "        lista.pop(0)\n",
    "    divisor = list(divisor)\n",
    "    divisor.sort()\n",
    "    return divisor[-1]"
   ]
  },
  {
   "cell_type": "code",
   "execution_count": null,
   "id": "4439643d-728e-40db-bff8-da2c768dcca3",
   "metadata": {},
   "outputs": [],
   "source": [
    "try:\n",
    "    print(mdc([58,176,5532,10794]))\n",
    "except Excption as e:\n",
    "    pri"
   ]
  }
 ],
 "metadata": {
  "kernelspec": {
   "display_name": "Python 3 (ipykernel)",
   "language": "python",
   "name": "python3"
  },
  "language_info": {
   "codemirror_mode": {
    "name": "ipython",
    "version": 3
   },
   "file_extension": ".py",
   "mimetype": "text/x-python",
   "name": "python",
   "nbconvert_exporter": "python",
   "pygments_lexer": "ipython3",
   "version": "3.11.7"
  }
 },
 "nbformat": 4,
 "nbformat_minor": 5
}
