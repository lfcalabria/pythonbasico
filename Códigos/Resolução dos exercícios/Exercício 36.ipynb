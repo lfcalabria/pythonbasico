{
 "cells": [
  {
   "cell_type": "markdown",
   "id": "f0eea21a-0a2d-444f-9051-6840fa80d884",
   "metadata": {},
   "source": [
    "Crie uma função que receba como parâmetro uma data no formato dd/mm/aaaa e retorne se é uma data válida\n"
   ]
  },
  {
   "cell_type": "code",
   "execution_count": 1,
   "id": "e596a43a-f843-4879-9b1b-dc1295afce07",
   "metadata": {},
   "outputs": [],
   "source": [
    "def validarData(data):\n",
    "    def eh_bissexto(ano):\n",
    "        return (ano % 4 == 0 and ano % 100 != 0) or (ano % 400 == 0)\n",
    "    partes = str(data).split('/')\n",
    "    if len(partes) != 3:\n",
    "        return False\n",
    "    try:\n",
    "        dia = int(partes[0])\n",
    "        mes = int(partes[1])\n",
    "        ano = int(partes[2])\n",
    "        if ano < 0:\n",
    "            return False\n",
    "    except Exception as e:\n",
    "        return False\n",
    "    if mes < 1 or mes > 12 or dia < 1:\n",
    "        return False\n",
    "\n",
    "    dias_por_mes = ['',31, 29 if eh_bissexto(ano) else 28, 31, 30, 31, 30,\n",
    "                    31, 31, 30, 31, 30, 31]\n",
    "\n",
    "    return dia <= dias_por_mes[mes]"
   ]
  },
  {
   "cell_type": "code",
   "execution_count": 2,
   "id": "a261da51-fc7b-48ae-8cbe-835732520e48",
   "metadata": {},
   "outputs": [
    {
     "name": "stdout",
     "output_type": "stream",
     "text": [
      "01/2/1900 True\n",
      "1/1/1 True\n",
      "a/12/1900 False\n",
      "29/02/1900 False\n",
      "19/02/2000 True\n",
      "1 False\n"
     ]
    }
   ],
   "source": [
    "datas = ['01/2/1900','1/1/1','a/12/1900','29/02/1900','19/02/2000',1]\n",
    "for data in datas:\n",
    "    print(data,validarData(data))"
   ]
  },
  {
   "cell_type": "code",
   "execution_count": null,
   "id": "d7a876d5-558f-47b2-b46a-7c421f9525d8",
   "metadata": {},
   "outputs": [],
   "source": []
  }
 ],
 "metadata": {
  "kernelspec": {
   "display_name": "Python 3 (ipykernel)",
   "language": "python",
   "name": "python3"
  },
  "language_info": {
   "codemirror_mode": {
    "name": "ipython",
    "version": 3
   },
   "file_extension": ".py",
   "mimetype": "text/x-python",
   "name": "python",
   "nbconvert_exporter": "python",
   "pygments_lexer": "ipython3",
   "version": "3.11.7"
  }
 },
 "nbformat": 4,
 "nbformat_minor": 5
}
