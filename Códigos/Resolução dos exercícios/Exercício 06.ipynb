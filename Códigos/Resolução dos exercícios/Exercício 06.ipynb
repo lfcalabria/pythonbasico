{
 "cells": [
  {
   "cell_type": "markdown",
   "id": "0c9cb30b-3c4d-4ab6-a9be-ed3ecdee3e76",
   "metadata": {},
   "source": [
    "Elabore um programa que calcule o consumo médio de um automóvel sendo fornecidos a distância total percorrida (em Km) e o total de combustível gasto (em litros), por intermédio do teclado. Sabe-se que o consumo médio de um automóvel é obtido pela razão entre a distância total percorrida e o total de combustível gasto no percurso. Apresente o valor que representa o consumo médio do automóvel, seguido da mensagem \"km/l\"."
   ]
  },
  {
   "cell_type": "code",
   "execution_count": null,
   "id": "b1d92fb9-53de-4ae9-b95a-4a23aaa2367a",
   "metadata": {},
   "outputs": [],
   "source": [
    "# Recebendo as entradas do problema\n",
    "distancia = float(input('Informe a dustância total percorrida: '))\n",
    "combustivel = float(input('Informe o total de combustível usado: '))\n",
    "\n",
    "# Fazendo o processamento\n",
    "consumo =distancia / combustivel\n",
    "\n",
    "#Apresentando as saídas\n",
    "print(f'O consumo médio foi: {consumo:.3f}km/l')"
   ]
  },
  {
   "cell_type": "code",
   "execution_count": null,
   "id": "1c38455e-157c-4b76-857d-0a687215138e",
   "metadata": {},
   "outputs": [],
   "source": []
  }
 ],
 "metadata": {
  "kernelspec": {
   "display_name": "Python 3 (ipykernel)",
   "language": "python",
   "name": "python3"
  },
  "language_info": {
   "codemirror_mode": {
    "name": "ipython",
    "version": 3
   },
   "file_extension": ".py",
   "mimetype": "text/x-python",
   "name": "python",
   "nbconvert_exporter": "python",
   "pygments_lexer": "ipython3",
   "version": "3.11.7"
  }
 },
 "nbformat": 4,
 "nbformat_minor": 5
}
