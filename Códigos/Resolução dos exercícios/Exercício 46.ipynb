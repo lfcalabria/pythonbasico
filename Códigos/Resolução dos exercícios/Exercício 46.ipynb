{
 "cells": [
  {
   "cell_type": "markdown",
   "id": "56de6d3a-ea78-4b64-8323-d6fa4e85eeab",
   "metadata": {},
   "source": [
    "Classe PoligonoRegular  \n",
    "Atributos: número de lados, tamanho do lado  \n",
    "Métodos: cálculo do perímetro,   \n",
    "               Não implementada  \n",
    "Classe Triangulo  \n",
    "\tredefine o método de cálculo de área  \n",
    "Classe Quadrado  \n",
    "\tredefine o método de cálculo de área   \n"
   ]
  },
  {
   "cell_type": "code",
   "execution_count": 22,
   "id": "5209ef3a-6f17-4837-9801-08f86f6395ab",
   "metadata": {},
   "outputs": [],
   "source": [
    "class PoligonoRegular():\n",
    "    def __init__(self,qtdlado,tamlado):\n",
    "        try:\n",
    "            self.__qtdlado = int(qtdlado)\n",
    "            self.__tamlado = float(tamlado)\n",
    "        except Exception:\n",
    "            raise ValueError(\"Pelo menos um dos valores está inválido\")\n",
    "        if qtdlado < 1 or tamlado <= 0:\n",
    "            raise ValueError(\"Pelo menos um dos valores está inválido\")\n",
    "    def getQtdLado(self):\n",
    "        return self.__qtdlado\n",
    "    def getTamLado(self):\n",
    "        return self.__tamlado\n",
    "    def setQtdLado(self,qtdlado):\n",
    "        try:\n",
    "            self.__qtdlado = int(qtdlado)\n",
    "        except Exception:\n",
    "            raise ValueError(\"Pelo menos um dos valores está inválido\")\n",
    "        if qtdlado < 3:\n",
    "            raise ValueError(\"Pelo menos um dos valores está inválido\")\n",
    "    def setTamLado(self,tamlado):\n",
    "        try:\n",
    "            self.__tamlado = float(tamlado)\n",
    "        except Exception:\n",
    "            raise ValueError(\"Pelo menos um dos valores está inválido\")\n",
    "        if tamlado <= 0:\n",
    "            raise ValueError(\"Pelo menos um dos valores está inválido\")\n",
    "    def __str__(self):\n",
    "        return f'Um polígono regular de {self.__qtdlado} lados de tamanho {self.__tamlado}cm'\n",
    "    def calculaPerimetro(self):\n",
    "        pass"
   ]
  },
  {
   "cell_type": "code",
   "execution_count": 26,
   "id": "86b7429b-7ec3-4b80-94b8-9086483f7660",
   "metadata": {},
   "outputs": [],
   "source": [
    "class Triangulo(PoligonoRegular):\n",
    "    def __init__(self, tamlado):\n",
    "        super().__init__(3, tamlado)\n",
    "    def calculaPerimetro(self):\n",
    "        return self.getTamLado() * 3\n",
    "    def setQtdLado(self, qtdlado):\n",
    "        raise ValueError(\"Um triângulo sempre tem 3 lados.\")"
   ]
  },
  {
   "cell_type": "code",
   "execution_count": 28,
   "id": "9418777e-d866-43a4-901d-5439dad8f1e1",
   "metadata": {},
   "outputs": [],
   "source": [
    "class Quadrado(PoligonoRegular):\n",
    "    def __init__(self, tamlado):\n",
    "        super().__init__(4, tamlado)\n",
    "    def calculaPerimetro(self):\n",
    "        return self.getTamLado() * 4\n",
    "    def setQtdLado(self, qtdlado):\n",
    "        raise ValueError(\"Um quadrado sempre tem 4 lados.\")"
   ]
  },
  {
   "cell_type": "code",
   "execution_count": 30,
   "id": "75b80a65-1891-4c05-a67e-fa9f8213ab5b",
   "metadata": {},
   "outputs": [
    {
     "name": "stdout",
     "output_type": "stream",
     "text": [
      "15.0\n",
      "Um polígono regular de 3 lados de tamanho 5.0cm\n",
      "22.0\n",
      "Um polígono regular de 4 lados de tamanho 5.5cm\n"
     ]
    }
   ],
   "source": [
    "try:\n",
    "    t = Triangulo(5)\n",
    "    print(t.calculaPerimetro())\n",
    "    print(t)\n",
    "except Exception as e:\n",
    "    print(e)\n",
    "try:\n",
    "    q = Quadrado(5.5)\n",
    "    print(q.calculaPerimetro())\n",
    "    print(q)\n",
    "except Exception as e:\n",
    "    print(e)"
   ]
  },
  {
   "cell_type": "code",
   "execution_count": null,
   "id": "8642a2d5-8b27-4d2b-8451-dff1262abd29",
   "metadata": {},
   "outputs": [],
   "source": []
  }
 ],
 "metadata": {
  "kernelspec": {
   "display_name": "Python 3 (ipykernel)",
   "language": "python",
   "name": "python3"
  },
  "language_info": {
   "codemirror_mode": {
    "name": "ipython",
    "version": 3
   },
   "file_extension": ".py",
   "mimetype": "text/x-python",
   "name": "python",
   "nbconvert_exporter": "python",
   "pygments_lexer": "ipython3",
   "version": "3.11.7"
  }
 },
 "nbformat": 4,
 "nbformat_minor": 5
}
