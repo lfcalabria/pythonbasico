{
 "cells": [
  {
   "cell_type": "code",
   "execution_count": 1,
   "id": "1d246bfe-061d-4392-a336-9b084d304ab4",
   "metadata": {},
   "outputs": [
    {
     "name": "stdout",
     "output_type": "stream",
     "text": [
      "['A', 'B', 'C']\n"
     ]
    }
   ],
   "source": [
    "#Cria uma lista\n",
    "l = ['A','B','C']\n",
    "print(l)"
   ]
  },
  {
   "cell_type": "code",
   "execution_count": 2,
   "id": "7b2f6182-c9d4-46c6-9f51-e65e7e729067",
   "metadata": {},
   "outputs": [
    {
     "name": "stdout",
     "output_type": "stream",
     "text": [
      "[]\n"
     ]
    }
   ],
   "source": [
    "#Limpa a lista\n",
    "l.clear()\n",
    "print(l)"
   ]
  },
  {
   "cell_type": "code",
   "execution_count": 3,
   "id": "c9894894-1faa-4155-90ae-12fc9e64cf58",
   "metadata": {},
   "outputs": [
    {
     "name": "stdout",
     "output_type": "stream",
     "text": [
      "['A', 'B', 'C']\n"
     ]
    }
   ],
   "source": [
    "l = ['A','B','C']\n",
    "print(l)"
   ]
  },
  {
   "cell_type": "code",
   "execution_count": 4,
   "id": "b23bd76b-8853-48e1-8dd4-f4b41edbeaa5",
   "metadata": {},
   "outputs": [
    {
     "name": "stdout",
     "output_type": "stream",
     "text": [
      "['A', 'B', 'C', 'D']\n"
     ]
    }
   ],
   "source": [
    "#Inclui um elemento no final da lista\n",
    "l.append('D')\n",
    "print(l)"
   ]
  },
  {
   "cell_type": "code",
   "execution_count": 5,
   "id": "2a2b659a-e75c-4392-9dda-7b2363f4278f",
   "metadata": {},
   "outputs": [
    {
     "name": "stdout",
     "output_type": "stream",
     "text": [
      "['A', 'B', 'C', 'D', ['E', 'F']]\n"
     ]
    }
   ],
   "source": [
    "l.append(['E','F'])\n",
    "print(l)"
   ]
  },
  {
   "cell_type": "code",
   "execution_count": 6,
   "id": "e03ed042-d4e4-4a13-9e67-593834d6d67d",
   "metadata": {},
   "outputs": [
    {
     "name": "stdout",
     "output_type": "stream",
     "text": [
      "['A', 'B', 'C', 'D', ['E', 'F'], 'G', 'H']\n"
     ]
    }
   ],
   "source": [
    "#Junta duas listas\n",
    "l.extend(['G','H'])\n",
    "print(l)"
   ]
  },
  {
   "cell_type": "code",
   "execution_count": 7,
   "id": "efb62d16-7de3-4786-a8e2-6d8a5273df53",
   "metadata": {},
   "outputs": [
    {
     "name": "stdout",
     "output_type": "stream",
     "text": [
      "['A', 'B', 'G', 'C', 'D', ['E', 'F'], 'G', 'H']\n"
     ]
    }
   ],
   "source": [
    "#Insere um elemento em uma posição específica\n",
    "l.insert(2,'G')\n",
    "print(l)"
   ]
  },
  {
   "cell_type": "code",
   "execution_count": 8,
   "id": "f9802aff-fa7a-4c8d-9810-cb69678f83e3",
   "metadata": {},
   "outputs": [
    {
     "name": "stdout",
     "output_type": "stream",
     "text": [
      "['A', 'B', 'G', 'C', ['E', 'F'], 'G', 'H']\n"
     ]
    }
   ],
   "source": [
    "#remove a primeira ocorrência do elemento informado\n",
    "l.remove('D')\n",
    "print(l)"
   ]
  },
  {
   "cell_type": "code",
   "execution_count": 9,
   "id": "432f0731-426e-4332-8e23-b7c26dc1da43",
   "metadata": {},
   "outputs": [
    {
     "name": "stdout",
     "output_type": "stream",
     "text": [
      "G\n",
      "['A', 'B', 'C', ['E', 'F'], 'G', 'H']\n"
     ]
    }
   ],
   "source": [
    "#Remove um elemento da lista pela posição e informa qual foi o elemento removido\n",
    "print(l.pop(2))\n",
    "print(l)"
   ]
  },
  {
   "cell_type": "code",
   "execution_count": 10,
   "id": "2ac49191-85a7-43d5-b2aa-eb33bcc74ef6",
   "metadata": {},
   "outputs": [
    {
     "name": "stdout",
     "output_type": "stream",
     "text": [
      "['A', 'B', 'C', ['E', 'F'], 'G', 'H', 'A', 'I', 'I', 'G', 'A']\n"
     ]
    }
   ],
   "source": [
    "l.extend(['A',\"I\",\"I\",'G','A'])\n",
    "print(l)"
   ]
  },
  {
   "cell_type": "code",
   "execution_count": 11,
   "id": "3ef4100d-db14-4a66-94aa-0f97f9554a80",
   "metadata": {},
   "outputs": [
    {
     "name": "stdout",
     "output_type": "stream",
     "text": [
      "['A', 'G', 'I', 'I', 'A', 'H', 'G', ['E', 'F'], 'C', 'B', 'A']\n"
     ]
    }
   ],
   "source": [
    "#Inverte a posição dos elementos da lista\n",
    "l.reverse()\n",
    "print(l)"
   ]
  },
  {
   "cell_type": "code",
   "execution_count": 12,
   "id": "fd6ce9b4-3c10-4421-8d74-77b9ff381f21",
   "metadata": {},
   "outputs": [
    {
     "name": "stdout",
     "output_type": "stream",
     "text": [
      "0\n"
     ]
    }
   ],
   "source": [
    "#Informa a posição da primeira ocorrência do elemento informado\n",
    "print(l.index('A'))"
   ]
  },
  {
   "cell_type": "code",
   "execution_count": 13,
   "id": "803e6b62-817c-490a-be20-f8bc25721d88",
   "metadata": {},
   "outputs": [
    {
     "name": "stdout",
     "output_type": "stream",
     "text": [
      "4\n"
     ]
    }
   ],
   "source": [
    "#Informa a primeiro ocorrência do elemento a partir de uma posição específica\n",
    "print(l.index(\"A\",1))"
   ]
  },
  {
   "cell_type": "code",
   "execution_count": 14,
   "id": "52fe1815-1b11-4bd2-b04d-035408ae32c0",
   "metadata": {},
   "outputs": [
    {
     "ename": "ValueError",
     "evalue": "'A' is not in list",
     "output_type": "error",
     "traceback": [
      "\u001b[1;31m---------------------------------------------------------------------------\u001b[0m",
      "\u001b[1;31mValueError\u001b[0m                                Traceback (most recent call last)",
      "Cell \u001b[1;32mIn[14], line 1\u001b[0m\n\u001b[1;32m----> 1\u001b[0m \u001b[38;5;28mprint\u001b[39m(l\u001b[38;5;241m.\u001b[39mindex(\u001b[38;5;124m\"\u001b[39m\u001b[38;5;124mA\u001b[39m\u001b[38;5;124m\"\u001b[39m,\u001b[38;5;241m7\u001b[39m,\u001b[38;5;241m9\u001b[39m))\n",
      "\u001b[1;31mValueError\u001b[0m: 'A' is not in list"
     ]
    }
   ],
   "source": [
    "#Informa a primeira ocorrência de um elemento dentro de um intervalo\n",
    "print(l.index(\"A\",7,9))"
   ]
  },
  {
   "cell_type": "code",
   "execution_count": 15,
   "id": "f6454ceb-9acb-4114-897f-7f22bfc71df9",
   "metadata": {},
   "outputs": [
    {
     "name": "stdout",
     "output_type": "stream",
     "text": [
      "0\n"
     ]
    }
   ],
   "source": [
    "#Informa a quantidade de ocorrências do elemento\n",
    "print(l.count(\"a\"))"
   ]
  },
  {
   "cell_type": "code",
   "execution_count": 16,
   "id": "3ddb21d4-0950-4974-b5be-22321f35c3ec",
   "metadata": {},
   "outputs": [
    {
     "name": "stdout",
     "output_type": "stream",
     "text": [
      "3\n"
     ]
    }
   ],
   "source": [
    "print(l.count(\"A\"))"
   ]
  },
  {
   "cell_type": "code",
   "execution_count": 17,
   "id": "0a1042e5-749f-4feb-ab91-1e65bc2898c8",
   "metadata": {},
   "outputs": [
    {
     "ename": "TypeError",
     "evalue": "'<' not supported between instances of 'list' and 'str'",
     "output_type": "error",
     "traceback": [
      "\u001b[1;31m---------------------------------------------------------------------------\u001b[0m",
      "\u001b[1;31mTypeError\u001b[0m                                 Traceback (most recent call last)",
      "Cell \u001b[1;32mIn[17], line 1\u001b[0m\n\u001b[1;32m----> 1\u001b[0m \u001b[38;5;28mprint\u001b[39m(l\u001b[38;5;241m.\u001b[39msort(reverse\u001b[38;5;241m=\u001b[39m\u001b[38;5;28;01mTrue\u001b[39;00m))\n",
      "\u001b[1;31mTypeError\u001b[0m: '<' not supported between instances of 'list' and 'str'"
     ]
    }
   ],
   "source": [
    "#Ordena a lista\n",
    "print(l.sort(reverse=True))"
   ]
  },
  {
   "cell_type": "code",
   "execution_count": 18,
   "id": "1a8f185a-0252-40b5-aa2e-84cf71a8e5e3",
   "metadata": {},
   "outputs": [
    {
     "name": "stdout",
     "output_type": "stream",
     "text": [
      "['A', 'G', 'I', 'I', 'A', 'H', 'G', 'C', 'B', 'A']\n"
     ]
    }
   ],
   "source": [
    "l.pop(7)\n",
    "print(l)"
   ]
  },
  {
   "cell_type": "code",
   "execution_count": 19,
   "id": "138a4ffc-72e6-4c18-9f96-603194a1997b",
   "metadata": {},
   "outputs": [
    {
     "name": "stdout",
     "output_type": "stream",
     "text": [
      "['I', 'I', 'H', 'G', 'G', 'C', 'B', 'A', 'A', 'A']\n"
     ]
    }
   ],
   "source": [
    "l.sort(reverse=True)\n",
    "print(l)"
   ]
  },
  {
   "cell_type": "code",
   "execution_count": 20,
   "id": "64fad790-ccea-4c3b-9ca4-8332a8f0661d",
   "metadata": {},
   "outputs": [
    {
     "name": "stdout",
     "output_type": "stream",
     "text": [
      "['A', 'A', 'A', 'B', 'C', 'G', 'G', 'H', 'I', 'I']\n"
     ]
    }
   ],
   "source": [
    "l.sort(reverse=False)\n",
    "print(l)"
   ]
  },
  {
   "cell_type": "code",
   "execution_count": 21,
   "id": "8199cd57-38f1-4426-81d0-3ff32c167ada",
   "metadata": {},
   "outputs": [
    {
     "name": "stdout",
     "output_type": "stream",
     "text": [
      "A\n"
     ]
    }
   ],
   "source": [
    "#Mostra o elemento de uma posição específica\n",
    "print(l[0])"
   ]
  },
  {
   "cell_type": "code",
   "execution_count": 22,
   "id": "380bde44-fc04-41c2-8103-60d795206f4e",
   "metadata": {},
   "outputs": [
    {
     "name": "stdout",
     "output_type": "stream",
     "text": [
      "['B', 'C', 'G']\n"
     ]
    }
   ],
   "source": [
    "#Mostra os elementos de um intervalo\n",
    "print(l[3:6])"
   ]
  },
  {
   "cell_type": "code",
   "execution_count": 23,
   "id": "894d5f9e-bf2f-407e-8163-edddfda524a5",
   "metadata": {},
   "outputs": [
    {
     "name": "stdout",
     "output_type": "stream",
     "text": [
      "['C', 'G', 'G', 'H', 'I', 'I']\n"
     ]
    }
   ],
   "source": [
    "#Mostra os elementos a partir de uma posição\n",
    "print(l[4:])"
   ]
  },
  {
   "cell_type": "code",
   "execution_count": 24,
   "id": "41251499-b670-444c-af70-0a89ec7bc14c",
   "metadata": {},
   "outputs": [
    {
     "name": "stdout",
     "output_type": "stream",
     "text": [
      "['A', 'A', 'A', 'B']\n"
     ]
    }
   ],
   "source": [
    "#Mostra os elementos até uma posição específica\n",
    "print(l[:4])"
   ]
  },
  {
   "cell_type": "code",
   "execution_count": 25,
   "id": "b5733784-f5f2-4d16-bc51-6fea2481359a",
   "metadata": {},
   "outputs": [
    {
     "name": "stdout",
     "output_type": "stream",
     "text": [
      "['H', 'I', 'I']\n"
     ]
    }
   ],
   "source": [
    "#Mostra os n últimos elementos\n",
    "print(l[-3:])"
   ]
  },
  {
   "cell_type": "code",
   "execution_count": 26,
   "id": "bf3c52a8-6cb8-4f42-90e9-08ebf861b90a",
   "metadata": {},
   "outputs": [
    {
     "name": "stdout",
     "output_type": "stream",
     "text": [
      "['A', 'A', 'A', 'B', 'C', 'G', 'G']\n"
     ]
    }
   ],
   "source": [
    "#Mostra a lista exceto os n últimos elementos\n",
    "print(l[:-3])"
   ]
  },
  {
   "cell_type": "code",
   "execution_count": null,
   "id": "a5ed5ef2-dac3-412c-abd2-c3fd262ae18e",
   "metadata": {},
   "outputs": [],
   "source": []
  }
 ],
 "metadata": {
  "kernelspec": {
   "display_name": "Python 3 (ipykernel)",
   "language": "python",
   "name": "python3"
  },
  "language_info": {
   "codemirror_mode": {
    "name": "ipython",
    "version": 3
   },
   "file_extension": ".py",
   "mimetype": "text/x-python",
   "name": "python",
   "nbconvert_exporter": "python",
   "pygments_lexer": "ipython3",
   "version": "3.11.7"
  }
 },
 "nbformat": 4,
 "nbformat_minor": 5
}
