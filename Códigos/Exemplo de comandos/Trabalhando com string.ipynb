{
 "cells": [
  {
   "cell_type": "code",
   "execution_count": 1,
   "id": "05cd235e-faa8-45a6-9ff8-ffb4c85bcff6",
   "metadata": {},
   "outputs": [
    {
     "name": "stdout",
     "output_type": "stream",
     "text": [
      "22\n"
     ]
    }
   ],
   "source": [
    "# O tamanho inteiro do conteúdo da variável \n",
    "texto = 'Curso de Python Básico'\n",
    "print(len(texto))"
   ]
  },
  {
   "cell_type": "code",
   "execution_count": 3,
   "id": "78873c27-336e-46e7-8653-3fb8a8b84f9b",
   "metadata": {},
   "outputs": [
    {
     "name": "stdout",
     "output_type": "stream",
     "text": [
      "d\n"
     ]
    }
   ],
   "source": [
    "# O conteúdo em determinada posição específica\n",
    "texto = 'Curso de Python Básico'\n",
    "print(texto[6])"
   ]
  },
  {
   "cell_type": "code",
   "execution_count": 5,
   "id": "82b3f01f-349a-4721-b826-ff6341cab9ad",
   "metadata": {},
   "outputs": [
    {
     "name": "stdout",
     "output_type": "stream",
     "text": [
      "Python\n"
     ]
    }
   ],
   "source": [
    "# O conteúdo em um intervalo (substring)([posição inicial:posição final])\n",
    "texto = 'Curso de Python Básico'\n",
    "print(texto[9:15])"
   ]
  },
  {
   "cell_type": "code",
   "execution_count": 6,
   "id": "64d00790-9d61-4cbf-9dc7-493f1fb11712",
   "metadata": {},
   "outputs": [
    {
     "name": "stdout",
     "output_type": "stream",
     "text": [
      "Python Básico\n"
     ]
    }
   ],
   "source": [
    "# O conteúdo a partir de uma posição até o final \n",
    "texto = 'Curso de Python Básico'\n",
    "print(texto[9:])"
   ]
  },
  {
   "cell_type": "code",
   "execution_count": 7,
   "id": "08278df4-5ef8-4ade-9359-5a0f6bc56202",
   "metadata": {},
   "outputs": [
    {
     "name": "stdout",
     "output_type": "stream",
     "text": [
      "Curso de Python\n"
     ]
    }
   ],
   "source": [
    "# O conteúdo do início até uma posição especificada\n",
    "texto = 'Curso de Python Básico'\n",
    "print(texto[:15])"
   ]
  },
  {
   "cell_type": "code",
   "execution_count": 8,
   "id": "c24c632a-d066-406e-9b03-ae10e7986d21",
   "metadata": {},
   "outputs": [
    {
     "name": "stdout",
     "output_type": "stream",
     "text": [
      "Básico\n"
     ]
    }
   ],
   "source": [
    "# O conteúdo dos n últimos caracteres\n",
    "texto = 'Curso de Python Básico'\n",
    "print(texto[-6:])"
   ]
  },
  {
   "cell_type": "code",
   "execution_count": 9,
   "id": "9b60f147-45a7-4782-b0a4-c80ec60a2fb6",
   "metadata": {},
   "outputs": [
    {
     "name": "stdout",
     "output_type": "stream",
     "text": [
      "Curso de Pyth\n"
     ]
    }
   ],
   "source": [
    "# O conteúdo sem  os n últimos\n",
    "texto = 'Curso de Python Básico'\n",
    "print(texto[:-9])"
   ]
  },
  {
   "cell_type": "code",
   "execution_count": 10,
   "id": "c997d6e5-84fa-4982-88a1-3432de2943b0",
   "metadata": {},
   "outputs": [
    {
     "name": "stdout",
     "output_type": "stream",
     "text": [
      "ocisáB nohtyP ed osruC\n"
     ]
    }
   ],
   "source": [
    "# O conteúdo invertido\n",
    "texto = 'Curso de Python Básico'\n",
    "print(texto[::-1])"
   ]
  },
  {
   "cell_type": "code",
   "execution_count": 12,
   "id": "275d701a-b2ea-4bdd-ad8b-58b51735e97b",
   "metadata": {},
   "outputs": [
    {
     "name": "stdout",
     "output_type": "stream",
     "text": [
      "curso de python básico\n"
     ]
    }
   ],
   "source": [
    "# O conteúdo com todas as letras minúsculas \n",
    "texto = 'Curso de Python Básico'\n",
    "print(texto.lower())"
   ]
  },
  {
   "cell_type": "code",
   "execution_count": 13,
   "id": "fc127800-6d6f-4699-8c97-daa78705f97f",
   "metadata": {},
   "outputs": [
    {
     "name": "stdout",
     "output_type": "stream",
     "text": [
      "CURSO DE PYTHON BÁSICO\n"
     ]
    }
   ],
   "source": [
    "# O conteúdo com todas as letras maiúsculas \n",
    "texto = 'Curso de Python Básico'\n",
    "print(texto.upper())"
   ]
  },
  {
   "cell_type": "code",
   "execution_count": 16,
   "id": "33aad27e-0a5a-427a-8a5c-35f8305c3666",
   "metadata": {},
   "outputs": [
    {
     "name": "stdout",
     "output_type": "stream",
     "text": [
      "Curso De Python Básico\n"
     ]
    }
   ],
   "source": [
    "# O conteúdo com a primeira letra de cada palavra em maiúsculas \n",
    "texto = 'Curso de PYTHON básico'\n",
    "print(texto.title())"
   ]
  },
  {
   "cell_type": "code",
   "execution_count": 17,
   "id": "74aacb9d-ffa4-4d4e-acbc-a32fbbc131f1",
   "metadata": {},
   "outputs": [
    {
     "name": "stdout",
     "output_type": "stream",
     "text": [
      "Curso de python básico\n"
     ]
    }
   ],
   "source": [
    "# O conteúdo com a primeira letra em maiúsculas \n",
    "texto = 'curso de PYTHON básico'\n",
    "print(texto.capitalize())"
   ]
  },
  {
   "cell_type": "code",
   "execution_count": 18,
   "id": "c46e7eb9-055f-4c54-b018-c272580b6d34",
   "metadata": {},
   "outputs": [
    {
     "name": "stdout",
     "output_type": "stream",
     "text": [
      "4\n",
      "-1\n"
     ]
    }
   ],
   "source": [
    "# Pesquisa um substring retorna um número inteiro\n",
    "# indicando a posição da primeira ocorrência que encontrar\n",
    "# ou -1 caso não encontre.\n",
    "texto = 'Curso de Python Básico'\n",
    "print(texto.find('o'))\n",
    "print(texto.find('a'))"
   ]
  },
  {
   "cell_type": "code",
   "execution_count": 19,
   "id": "4349bf06-22f3-4859-9631-5eff24c4cdd6",
   "metadata": {},
   "outputs": [
    {
     "name": "stdout",
     "output_type": "stream",
     "text": [
      "Curso de Python Basico\n"
     ]
    }
   ],
   "source": [
    "# Substitui no texto o primeiro caractere pelo segundo\n",
    "# caso exista\n",
    "texto = 'Curso de Python Básico'\n",
    "print(texto.replace('á','a'))"
   ]
  },
  {
   "cell_type": "code",
   "execution_count": 20,
   "id": "b4d221fb-f1df-4178-ba29-204197ebfc45",
   "metadata": {},
   "outputs": [
    {
     "name": "stdout",
     "output_type": "stream",
     "text": [
      "False\n"
     ]
    }
   ],
   "source": [
    "#Retorna True caso a string contenha apenas letras, \n",
    "# se não retorna False \n",
    "texto = 'Curso de Python Básico'\n",
    "print(texto.isalpha())"
   ]
  },
  {
   "cell_type": "code",
   "execution_count": 23,
   "id": "7c673dcb-e15a-47ec-aecf-a51209b7d407",
   "metadata": {},
   "outputs": [
    {
     "name": "stdout",
     "output_type": "stream",
     "text": [
      "True\n"
     ]
    }
   ],
   "source": [
    "#Retorna True caso a string contenha apenas letras  e números, \n",
    "# se não retorna False \n",
    "texto = 'CursodePythonBásico123'\n",
    "print(texto.isalnum())"
   ]
  },
  {
   "cell_type": "code",
   "execution_count": 24,
   "id": "18f59a42-5402-4e8d-ba2d-e75158902063",
   "metadata": {},
   "outputs": [
    {
     "name": "stdout",
     "output_type": "stream",
     "text": [
      "False\n"
     ]
    }
   ],
   "source": [
    "#Retorna True caso a string contenha apenas números, \n",
    "# se não retorna False \n",
    "texto = '123.45'\n",
    "print(texto.isnumeric())"
   ]
  },
  {
   "cell_type": "code",
   "execution_count": 28,
   "id": "75789222-7b76-4a40-b387-5ab7513a4e38",
   "metadata": {},
   "outputs": [
    {
     "name": "stdout",
     "output_type": "stream",
     "text": [
      "True\n"
     ]
    }
   ],
   "source": [
    "#Retorna True caso a todos os caracteres sejam impriiveis\n",
    "# se não retorna False \n",
    "texto = '123.45'\n",
    "print(texto.isprintable())"
   ]
  },
  {
   "cell_type": "code",
   "execution_count": 29,
   "id": "604e4a9a-9571-47a2-a6bd-da2b9c9a8205",
   "metadata": {},
   "outputs": [
    {
     "name": "stdout",
     "output_type": "stream",
     "text": [
      "['Curso', 'de', 'Python', 'Básico']\n"
     ]
    }
   ],
   "source": [
    "# Retorna uma lista de strings utilizando o caractere passado \n",
    "# como delimitador da separação\n",
    "texto = 'Curso de Python Básico'\n",
    "print(texto.split(' '))"
   ]
  },
  {
   "cell_type": "code",
   "execution_count": 30,
   "id": "79037b10-d279-45a4-b046-bf0ac967e043",
   "metadata": {},
   "outputs": [
    {
     "name": "stdout",
     "output_type": "stream",
     "text": [
      "Curso_de_Python_Básico\n"
     ]
    }
   ],
   "source": [
    "# Retona uma string formada com o conteúdo de uma lista\n",
    "lista = ['Curso', 'de', 'Python', 'Básico']\n",
    "print(\"_\".join(lista))"
   ]
  },
  {
   "cell_type": "code",
   "execution_count": 31,
   "id": "272d8007-ab1a-4189-b2c0-47bf407682e3",
   "metadata": {},
   "outputs": [
    {
     "name": "stdout",
     "output_type": "stream",
     "text": [
      "Curso  de  Python Básico    \n"
     ]
    }
   ],
   "source": [
    "# Retira espaços a esquerda da string\n",
    "texto = '    Curso  de  Python Básico    '\n",
    "print(texto.lstrip())"
   ]
  },
  {
   "cell_type": "code",
   "execution_count": 32,
   "id": "a7f0d913-aa1c-4553-9673-aa208e9547d3",
   "metadata": {},
   "outputs": [
    {
     "name": "stdout",
     "output_type": "stream",
     "text": [
      "    Curso  de  Python Básico\n"
     ]
    }
   ],
   "source": [
    "# Retira espaços a direita da string\n",
    "texto = '    Curso  de  Python Básico    '\n",
    "print(texto.rstrip())"
   ]
  },
  {
   "cell_type": "code",
   "execution_count": 33,
   "id": "d1fc4069-e7f1-49f0-9718-de594f132e0a",
   "metadata": {},
   "outputs": [
    {
     "name": "stdout",
     "output_type": "stream",
     "text": [
      "Curso  de  Python Básico\n"
     ]
    }
   ],
   "source": [
    "# Retira espaços a direita e a esquerda da string\n",
    "texto = '    Curso  de  Python Básico    '\n",
    "print(texto.strip())"
   ]
  },
  {
   "cell_type": "code",
   "execution_count": 34,
   "id": "5c0beeed-34a2-497d-ab42-16f60a63a9e2",
   "metadata": {},
   "outputs": [
    {
     "name": "stdout",
     "output_type": "stream",
     "text": [
      "0000000123\n"
     ]
    }
   ],
   "source": [
    "# Alinha a string a direita e completa com o caracter \n",
    "# informado a esquerda\n",
    "texto = '123'\n",
    "print(texto.rjust(10,'0'))"
   ]
  },
  {
   "cell_type": "code",
   "execution_count": 35,
   "id": "ec2d8850-5d74-45cb-bf47-b6bca8928c5e",
   "metadata": {},
   "outputs": [
    {
     "name": "stdout",
     "output_type": "stream",
     "text": [
      "1230000000\n"
     ]
    }
   ],
   "source": [
    "# Alinha a string a esquerda e completa com o caracter \n",
    "# informado a direira\n",
    "texto = '123'\n",
    "print(texto.ljust(10,'0'))"
   ]
  },
  {
   "cell_type": "code",
   "execution_count": 36,
   "id": "1d53f201-ee2b-4d17-a8a5-0bae080da424",
   "metadata": {},
   "outputs": [
    {
     "name": "stdout",
     "output_type": "stream",
     "text": [
      "   123    \n"
     ]
    }
   ],
   "source": [
    "# Coloca a string no centro do tamanho informado\n",
    "texto = '123'\n",
    "print(texto.center(10))"
   ]
  },
  {
   "cell_type": "code",
   "execution_count": 42,
   "id": "e345bfcc-371a-4a01-91ae-156ffe3f0037",
   "metadata": {},
   "outputs": [
    {
     "name": "stdout",
     "output_type": "stream",
     "text": [
      "3\n",
      "2\n",
      "1\n"
     ]
    }
   ],
   "source": [
    "# Retorna quantas vezes uma string aparece no texto\n",
    "# podemos delimitá-lo\n",
    "texto = 'Curso de Python Básico'\n",
    "print(texto.count('o'))\n",
    "print(texto.count('o',5))\n",
    "print(texto.count('o',5,14))"
   ]
  },
  {
   "cell_type": "code",
   "execution_count": null,
   "id": "3b7b9aaf-f6dc-4734-a823-15b84299942a",
   "metadata": {},
   "outputs": [],
   "source": []
  },
  {
   "cell_type": "code",
   "execution_count": null,
   "id": "62c99314-6ed9-4fa5-91dc-023076659876",
   "metadata": {},
   "outputs": [],
   "source": []
  },
  {
   "attachments": {},
   "cell_type": "markdown",
   "id": "d76a5eee-09b2-46ee-8ae1-156329a459c5",
   "metadata": {},
   "source": [
    "Formato para valores numéricos:  \n",
    "- `.2f`  => arredonda para 2 casas decimais  \r\n",
    "- `,.2f` =>arredonda para  2 casas decimais com separador de milhar  \r\n",
    "- `.3e` => apresenta em notação científica  \r\n",
    "- `.2%` => multiplica por 100 e apresenta em percentual  \r\n",
    "- `d` => para inteiros, mostra em decimal  \r\n",
    "- `x` => para inteiros, mostra em hexadecimal  \r\n",
    "- `o` => para inteiros, mostra em octal  \r\n",
    "- `b` => para inteiros, mostra em binário  \r\n",
    "- `>10.2f` => Alinha à direita em 10 espaços com duas casas decimais  \r\n",
    "- `<10.2f` => Alinha à esquerda em 10 espaços com duas casas decimais  \r\n",
    "- `^10.2f` => Alinha no centro em 10 espaços com duas casas decimais  \r\n",
    "- `010.2f` => preenche com 0 à esquerda com 10 espaços e duas casas decimais  \r\n",
    "\t  decimais\r\n"
   ]
  },
  {
   "cell_type": "code",
   "execution_count": 52,
   "id": "5ad74ef8-c550-46a2-8d55-3ee2fde2db8e",
   "metadata": {},
   "outputs": [
    {
     "name": "stdout",
     "output_type": "stream",
     "text": [
      "Formatando os números 0.55\n",
      "Formatando os números 100,000\n",
      "Formatando os números 1e+05\n",
      "Formatando os números 54.560%\n",
      "Formatando os números 100,000\n",
      "Formatando os números 186a0\n",
      "Formatando os números 303240\n",
      "Formatando os números 11000011010100000\n",
      "Formatando os números       0.55\n",
      "Formatando os números 0.55      \n",
      "Formatando os números    0.55   \n",
      "Formatando os números 0000000.55\n"
     ]
    }
   ],
   "source": [
    "n1 = 100000\n",
    "n2 = 0.5456\n",
    "print(f'Formatando os números {n2:.2f}')\n",
    "print(f'Formatando os números {n1:,.0f}')\n",
    "print(f'Formatando os números {n1:,.0e}')\n",
    "print(f'Formatando os números {n2:.3%}')\n",
    "print(f'Formatando os números {n1:,d}')\n",
    "print(f'Formatando os números {n1:x}')\n",
    "print(f'Formatando os números {n1:o}')\n",
    "print(f'Formatando os números {n1:b}')\n",
    "print(f'Formatando os números {n2:>10.2f}')\n",
    "print(f'Formatando os números {n2:<10.2f}')\n",
    "print(f'Formatando os números {n2:^10.2f}')\n",
    "print(f'Formatando os números {n2:010.2f}')\n"
   ]
  },
  {
   "cell_type": "code",
   "execution_count": null,
   "id": "9f14435d-36f5-4fe3-b156-e58244b23323",
   "metadata": {},
   "outputs": [],
   "source": []
  }
 ],
 "metadata": {
  "kernelspec": {
   "display_name": "Python 3 (ipykernel)",
   "language": "python",
   "name": "python3"
  },
  "language_info": {
   "codemirror_mode": {
    "name": "ipython",
    "version": 3
   },
   "file_extension": ".py",
   "mimetype": "text/x-python",
   "name": "python",
   "nbconvert_exporter": "python",
   "pygments_lexer": "ipython3",
   "version": "3.11.7"
  }
 },
 "nbformat": 4,
 "nbformat_minor": 5
}
